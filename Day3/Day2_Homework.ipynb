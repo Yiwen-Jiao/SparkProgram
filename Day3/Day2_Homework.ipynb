{
 "cells": [
  {
   "cell_type": "markdown",
   "metadata": {},
   "source": [
    "**HOMEWORK:**\n",
    "In the /home/student/ROI/SparkProgram/datasets/finance folder are two files:\n",
    "top50banks.tsv is tab separated\n",
    "countrycodes.json is a json file\n",
    "Using these two files, create an alphabetical list of countries and show the sum, min and max of their total assets and find the country with the most assets and what that amount is."
   ]
  },
  {
   "cell_type": "code",
   "execution_count": 1,
   "metadata": {},
   "outputs": [],
   "source": [
    "import sys\n",
    "sys.path.append('/home/student/ROI/SparkProgram')\n",
    "from initspark import *\n",
    "sc, spark, conf = initspark()"
   ]
  },
  {
   "cell_type": "code",
   "execution_count": 2,
   "metadata": {},
   "outputs": [
    {
     "name": "stdout",
     "output_type": "stream",
     "text": [
      "root\n",
      " |-- rank: integer (nullable = true)\n",
      " |-- bank: string (nullable = true)\n",
      " |-- countrycode: integer (nullable = true)\n",
      " |-- total_assets_us_b: string (nullable = true)\n",
      " |-- balance_sheet: string (nullable = true)\n",
      "\n",
      "root\n",
      " |-- Country: string (nullable = true)\n",
      " |-- ID: long (nullable = true)\n",
      "\n",
      "+-----------+------------------+--------+--------+\n",
      "|    Country|             Total|     Min|     Max|\n",
      "+-----------+------------------+--------+--------+\n",
      "|  Australia|          2678.136| 604.935| 743.871|\n",
      "|     Canada|          2511.029| 665.286| 941.293|\n",
      "|      China|          4329.798|1,231.95|  904.22|\n",
      "|     France|            782.37|1,323.76|  782.37|\n",
      "|    Germany|              null|1,672.27|1,672.27|\n",
      "|      Italy|          1731.893| 790.271| 941.622|\n",
      "|      Japan|           957.372|1,769.54| 957.372|\n",
      "| Luxembourg|           612.616| 612.616| 612.616|\n",
      "|Netherlands|1653.4499999999998| 707.842| 945.608|\n",
      "|      Spain|           768.607|1,444.85| 768.607|\n",
      "|     Sweden|            694.95|  694.95|  694.95|\n",
      "|Switzerland|           1720.83| 811.622| 909.208|\n",
      "|         UK|            1624.1|1,020.01| 977.408|\n",
      "|        USA|           1726.46|1,821.64| 894.069|\n",
      "+-----------+------------------+--------+--------+\n",
      "\n"
     ]
    },
    {
     "data": {
      "text/plain": [
       "[Row(Country='China', Total=4329.798)]"
      ]
     },
     "execution_count": 2,
     "metadata": {},
     "output_type": "execute_result"
    }
   ],
   "source": [
    "b = spark.read.csv('/home/student/ROI/SparkProgram/datasets/finance/top50banks.tsv', header=True, sep = '\\t', inferSchema=True)\n",
    "c = spark.read.json('/home/student/ROI/SparkProgram/datasets/finance/countrycodes.json')\n",
    "b.printSchema()\n",
    "c.printSchema()\n",
    "j = b.join(c, b.countrycode == c.ID).select('bank', 'Country', 'total_assets_us_b')\n",
    "from pyspark.sql.functions import expr\n",
    "g = j.groupby('Country')\n",
    "#g1 = g.agg(F.sum('total_assets_us_b'), F.min('total_assets_us_b'), F.max('total_assets_us_b'))\n",
    "g1 = g.agg(expr(\"sum(total_assets_us_b) as Total\"), expr(\"min(total_assets_us_b) as Min\"), expr(\"max(total_assets_us_b) as Max\"))\n",
    "g1.sort('Country').show()\n",
    "g1.sort('Total', ascending=False).select('Country', 'Total').take(1)"
   ]
  },
  {
   "cell_type": "code",
   "execution_count": null,
   "metadata": {},
   "outputs": [],
   "source": []
  }
 ],
 "metadata": {
  "kernelspec": {
   "display_name": "Python 3",
   "language": "python",
   "name": "python3"
  },
  "language_info": {
   "codemirror_mode": {
    "name": "ipython",
    "version": 3
   },
   "file_extension": ".py",
   "mimetype": "text/x-python",
   "name": "python",
   "nbconvert_exporter": "python",
   "pygments_lexer": "ipython3",
   "version": "3.7.3"
  }
 },
 "nbformat": 4,
 "nbformat_minor": 2
}
