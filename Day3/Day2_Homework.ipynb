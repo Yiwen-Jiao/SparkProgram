{
 "cells": [
  {
   "cell_type": "markdown",
   "metadata": {},
   "source": [
    "**HOMEWORK:**\n",
    "In the /home/student/ROI/SparkProgram/datasets/finance folder are two files:\n",
    "top50banks.tsv is tab separated\n",
    "countrycodes.json is a json file\n",
    "Using these two files, create an alphabetical list of countries and show the sum, min and max of their total assets and find the country with the most assets and what that amount is."
   ]
  },
  {
   "cell_type": "code",
   "execution_count": 1,
   "metadata": {},
   "outputs": [],
   "source": [
    "import sys\n",
    "sys.path.append('/home/student/ROI/SparkProgram')\n",
    "from initspark import *\n",
    "sc, spark, conf = initspark()"
   ]
  },
  {
   "cell_type": "code",
   "execution_count": null,
   "metadata": {},
   "outputs": [],
   "source": [
    "b = spark.read.csv('/home/student/ROI/SparkProgram/datasets/finance/top50banks.tsv', header=True, sep = '\\t', inferSchema=True)\n",
    "c = spark.read.json('/home/student/ROI/SparkProgram/datasets/finance/countrycodes.json')\n",
    "b.printSchema()\n",
    "c.printSchema()\n",
    "j = b.join(c, b.countrycode == c.ID).select('bank', 'Country', 'total_assets_us_b')\n",
    "from pyspark.sql.functions import expr\n",
    "g = j.groupby('Country')\n",
    "#g1 = g.agg(F.sum('total_assets_us_b'), F.min('total_assets_us_b'), F.max('total_assets_us_b'))\n",
    "g1 = g.agg(expr(\"sum(total_assets_us_b) as Total\"), expr(\"min(total_assets_us_b) as Min\"), expr(\"max(total_assets_us_b) as Max\"))\n",
    "g1.sort('Country').show()\n",
    "g1.sort('Total', ascending=False).select('Country', 'Total').take(1)"
   ]
  },
  {
   "cell_type": "code",
   "execution_count": null,
   "metadata": {},
   "outputs": [],
   "source": []
  }
 ],
 "metadata": {
  "kernelspec": {
   "display_name": "Python 3",
   "language": "python",
   "name": "python3"
  },
  "language_info": {
   "codemirror_mode": {
    "name": "ipython",
    "version": 3
   },
   "file_extension": ".py",
   "mimetype": "text/x-python",
   "name": "python",
   "nbconvert_exporter": "python",
   "pygments_lexer": "ipython3",
   "version": "3.7.3"
  }
 },
 "nbformat": 4,
 "nbformat_minor": 2
}
