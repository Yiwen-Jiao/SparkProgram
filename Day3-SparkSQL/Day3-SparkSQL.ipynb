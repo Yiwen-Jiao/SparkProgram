{
  "nbformat": 4,
  "nbformat_minor": 0,
  "metadata": {
    "colab": {
      "name": "Day3-SparkSQL.ipynb",
      "provenance": []
    },
    "kernelspec": {
      "display_name": "Python 3",
      "language": "python",
      "name": "python3"
    },
    "language_info": {
      "codemirror_mode": {
        "name": "ipython",
        "version": 3
      },
      "file_extension": ".py",
      "mimetype": "text/x-python",
      "name": "python",
      "nbconvert_exporter": "python",
      "pygments_lexer": "ipython3",
      "version": "3.7.3"
    }
  },
  "cells": [
    {
      "cell_type": "markdown",
      "metadata": {
        "colab_type": "text",
        "id": "1Zk5rxsmgUt7"
      },
      "source": [
        "## Open a terminal window and run the following commands:\n",
        "sudo bash\n",
        "start-hadoop\n",
        "cd /home/student/ROI/SparkProgram/Day3\n",
        "./fixhive.sh\n"
      ]
    },
    {
      "cell_type": "markdown",
      "metadata": {
        "colab_type": "text",
        "id": "nT7uivAfgUuA"
      },
      "source": [
        "## Let's make a simple hive table for regions."
      ]
    },
    {
      "cell_type": "code",
      "metadata": {
        "colab_type": "code",
        "id": "QVZ6O4y8gUuC",
        "colab": {}
      },
      "source": [
        "! cat /class/regions.hql\n",
        "! /class/fixhive.sh\n"
      ],
      "execution_count": 0,
      "outputs": []
    },
    {
      "cell_type": "code",
      "metadata": {
        "colab_type": "code",
        "id": "2Rc9DNPdgUuG",
        "colab": {}
      },
      "source": [
        "import sys\n",
        "sys.path.append('/class')\n",
        "from initspark import *\n",
        "sc, spark, conf = initspark()\n"
      ],
      "execution_count": 0,
      "outputs": []
    },
    {
      "cell_type": "markdown",
      "metadata": {
        "colab_type": "text",
        "id": "S2mr3DIKgUuL"
      },
      "source": [
        "## You can query an existing Hive table and bring it into a Spark DataFrame."
      ]
    },
    {
      "cell_type": "code",
      "metadata": {
        "colab_type": "code",
        "id": "Pe14VoNmgUuM",
        "colab": {}
      },
      "source": [
        "regions = spark.sql('select * from regions')\n",
        "regions.show()\n",
        "print(regions)\n"
      ],
      "execution_count": 0,
      "outputs": []
    },
    {
      "cell_type": "markdown",
      "metadata": {
        "colab_type": "text",
        "id": "7uNzTBr_gUuR"
      },
      "source": [
        "## Read in a file to a Spark DataFrame."
      ]
    },
    {
      "cell_type": "code",
      "metadata": {
        "colab_type": "code",
        "id": "9O2HurUbgUuS",
        "colab": {}
      },
      "source": [
        "territories = spark.read.csv('/class/datasets/northwind/CSVHeaders/territories', header=True)\n",
        "territories.show()\n"
      ],
      "execution_count": 0,
      "outputs": []
    },
    {
      "cell_type": "markdown",
      "metadata": {
        "colab_type": "text",
        "id": "55rxI7rhgUuW"
      },
      "source": [
        "## Use createOrReplaceTempView to create a virtual table in the Hive catalog and then it can be queried using SQL as if it were a hive table."
      ]
    },
    {
      "cell_type": "code",
      "metadata": {
        "colab_type": "code",
        "id": "B1QjuhcTgUuX",
        "colab": {}
      },
      "source": [
        "territories.createOrReplaceTempView('territories')\n",
        "t1 =spark.sql('select * from territories where regionid = 1')\n",
        "t1.show()\n",
        "print(t1.count())\n"
      ],
      "execution_count": 0,
      "outputs": []
    },
    {
      "cell_type": "markdown",
      "metadata": {
        "colab_type": "text",
        "id": "2AG_7asYgUub"
      },
      "source": [
        "## Spark DataFrames can be saved to a Hive table using either the saveAsTable method or writing a SQL query that uses CREATE TABLE AS."
      ]
    },
    {
      "cell_type": "code",
      "metadata": {
        "colab_type": "code",
        "id": "c_t3CY5kgUud",
        "colab": {}
      },
      "source": [
        "territories.write.saveAsTable('Territories2', mode='overwrite')\n",
        "spark.sql('create table Territories3 as select * from territories')\n"
      ],
      "execution_count": 0,
      "outputs": []
    },
    {
      "cell_type": "markdown",
      "metadata": {
        "id": "GESKSjlVoIza",
        "colab_type": "text"
      },
      "source": [
        "## Confirm that the tables exist in Hive.\n",
        "From the command line type hive or spark-sql and then show tables;\n"
      ]
    },
    {
      "cell_type": "code",
      "metadata": {
        "id": "x2RlNAMwoIzc",
        "colab_type": "code",
        "colab": {}
      },
      "source": [
        "#! hive -e \"show tables;\"\n",
        "! spark-sql \"show tables;\""
      ],
      "execution_count": 0,
      "outputs": []
    },
    {
      "cell_type": "markdown",
      "metadata": {
        "colab_type": "text",
        "id": "8YgAW8SdgUuh"
      },
      "source": [
        "## Queries use standard HQL to mix Hive tables and virtual tables. Both are read into a Spark DataFrame and the processing happens at the Spark level, not at the Hive level. HQL is just used to parse the logic into the corresponding Spark methods."
      ]
    },
    {
      "cell_type": "code",
      "metadata": {
        "colab_type": "code",
        "id": "B5TTOFx_gUui",
        "colab": {}
      },
      "source": [
        "sql = \"\"\"\n",
        "select r.regionid, r.regionname, t.territoryid, t.territoryname \n",
        "from regions as r \n",
        "join territories as t on r.regionid = t.regionid \n",
        "order by r.regionid, t.territoryid\n",
        "\"\"\"\n",
        "rt = spark.sql(sql)\n",
        "rt.show(10)\n",
        "\n",
        "tr = regions.join(territories, regions.regionid == territories.RegionID). \\\n",
        "     select('regions.regionid', 'regionname', 'TerritoryID', 'TerritoryName') .\\\n",
        "    orderBy('regionid', 'territoryid')\n",
        "tr.show(10)\n"
      ],
      "execution_count": 0,
      "outputs": []
    },
    {
      "cell_type": "markdown",
      "metadata": {
        "colab_type": "text",
        "id": "OBAmE5RzgUul"
      },
      "source": [
        "## LAB: ## \n",
        "### Read the northwind JSON products and make it into a TempView and do the same with the CSVHeaders version of categories.\n",
        "<br>\n",
        "<details><summary>Click for <b>hint</b></summary>\n",
        "<p>\n",
        "Look at Day 2 or below to copy the code to load in the DataFrames\n",
        "<br>\n",
        "Turn each DataFrame into a temporary view\n",
        "<br>\n",
        "<br>\n",
        "</p>\n",
        "</details>\n",
        "\n",
        "<details><summary>Click for <b>code</b></summary>\n",
        "<p>\n",
        "\n",
        "```python\n",
        "categories = spark.read.load('/class/datasets/northwind/CSV/categories', format = 'csv', sep = ',', inferSchema = True, header = False)\n",
        "\n",
        "prodSchema = StructType([\n",
        "    StructField('productid', IntegerType()), \n",
        "    StructField('productname', StringType()),\n",
        "    StructField('supplierid', IntegerType()), \n",
        "    StructField('categoryid', IntegerType()), \n",
        "    StructField('quantityperunit', StringType()), \n",
        "    StructField('unitprice', FloatType()), \n",
        "    StructField('unitsinstock', IntegerType()), \n",
        "    StructField('unitsonorder', IntegerType()), \n",
        "    StructField('reorderlevel', IntegerType()), \n",
        "    StructField('discontinued', IntegerType())\n",
        "])\n",
        "products = spark.read.json('/class/datasets/northwind/JSON/products', schema=prodSchema)\n",
        "\n",
        "categories.createOrReplaceTempView('categories')\n",
        "products.createOrReplaceTempView('products')```\n",
        "</p>\n",
        "</details>"
      ]
    },
    {
      "cell_type": "code",
      "metadata": {
        "colab_type": "code",
        "id": "kReWCLN1gUuq",
        "colab": {}
      },
      "source": [
        ""
      ],
      "execution_count": 0,
      "outputs": []
    },
    {
      "cell_type": "markdown",
      "metadata": {
        "colab_type": "text",
        "id": "gIronhy5gUut"
      },
      "source": [
        "## Install the MySQL Python connector. This has nothing to do with Spark, but if you want to run SQL queries directly it is helpful.\n",
        "It's already on our machines so we don't need to run this now."
      ]
    },
    {
      "cell_type": "code",
      "metadata": {
        "colab_type": "code",
        "id": "KsdTYGVygUuu",
        "colab": {}
      },
      "source": [
        "! pip install mysql-connector-python"
      ],
      "execution_count": 0,
      "outputs": []
    },
    {
      "cell_type": "markdown",
      "metadata": {
        "colab_type": "text",
        "id": "zVmFdwergUuz"
      },
      "source": [
        "## Let's make sure we have a database for northwind and no regions table."
      ]
    },
    {
      "cell_type": "code",
      "metadata": {
        "colab_type": "code",
        "id": "Bp7a-BNdgUu0",
        "colab": {}
      },
      "source": [
        "import mysql.connector\n",
        "try:\n",
        "    cn = mysql.connector.connect(host='localhost', user='test', password='password')\n",
        "    cursor = cn.cursor()\n",
        "    cursor.execute('create database if not exists northwind')\n",
        "    cn.close()\n",
        "\n",
        "    cn = mysql.connector.connect(host='localhost', user='test', password='password', database='northwind')\n",
        "    cursor = cn.cursor()    \n",
        "    cursor.execute('drop table if exists regions')\n",
        "    cn.close()\n",
        "except:\n",
        "    print('something went wrong')\n",
        "else:\n",
        "    print('success')\n",
        "\n"
      ],
      "execution_count": 0,
      "outputs": []
    },
    {
      "cell_type": "markdown",
      "metadata": {
        "colab_type": "text",
        "id": "Ix21bUHogUu4"
      },
      "source": [
        "## Write a DataFrame to a SQL database."
      ]
    },
    {
      "cell_type": "code",
      "metadata": {
        "colab_type": "code",
        "id": "s9aHMSK3gUu5",
        "colab": {}
      },
      "source": [
        "regions.write.format(\"jdbc\").options(url=\"jdbc:mysql://localhost/northwind\", \\\n",
        "                                     driver='com.mysql.jdbc.Driver', \\\n",
        "                                     dbtable='regions', \\\n",
        "                                     user='test', password = \"password\", mode = \"append\", \\\n",
        "                                     useSSL = \"false\").save()\n"
      ],
      "execution_count": 0,
      "outputs": []
    },
    {
      "cell_type": "markdown",
      "metadata": {
        "colab_type": "text",
        "id": "cg0NxXW3gUvA"
      },
      "source": [
        "## Read a SQL table into a Spark DataFrame."
      ]
    },
    {
      "cell_type": "code",
      "metadata": {
        "colab_type": "code",
        "id": "WE1ymq3KgUvC",
        "colab": {}
      },
      "source": [
        "regions2 = spark.read.format(\"jdbc\").options(url=\"jdbc:mysql://localhost/northwind\", \\\n",
        "                                             driver=\"com.mysql.jdbc.Driver\", \\\n",
        "                                             dbtable= \"regions\", \\\n",
        "                                             user=\"test\", password=\"password\").load()\n",
        "regions2.show()\n"
      ],
      "execution_count": 0,
      "outputs": []
    },
    {
      "cell_type": "markdown",
      "metadata": {
        "id": "Ftyax8bwoI0A",
        "colab_type": "text"
      },
      "source": [
        "## If you don't wont to bring an entire SQL table into a spark DataFrame use query instead of dbtable."
      ]
    },
    {
      "cell_type": "code",
      "metadata": {
        "id": "xNCaIv8coI0B",
        "colab_type": "code",
        "colab": {}
      },
      "source": [
        "regions3 = spark.read.format(\"jdbc\").options(url=\"jdbc:mysql://localhost/northwind\", \\\n",
        "                                             driver=\"com.mysql.jdbc.Driver\", \\\n",
        "                                             query= \"select * from regions where regionid < 3\", \\\n",
        "                                             user=\"test\", password=\"password\").load()\n",
        "regions3.show()\n",
        "\n"
      ],
      "execution_count": 0,
      "outputs": []
    },
    {
      "cell_type": "markdown",
      "metadata": {
        "colab_type": "text",
        "id": "gZfSSRw3gUvF"
      },
      "source": [
        "## Creating the regions2 DataFrame does not execute anything yet, but by making the DataFrame into a Temp View then running a Spark SQL query, it tells Spark to read the SQL data into a DataFrame and then use the cluster to do the processing, not the SQL source."
      ]
    },
    {
      "cell_type": "code",
      "metadata": {
        "colab_type": "code",
        "id": "NqdUrSUTgUvG",
        "colab": {}
      },
      "source": [
        "regions2.createOrReplaceTempView('regions2')\n",
        "spark.sql('select * from regions2 where regionid < 3').show()"
      ],
      "execution_count": 0,
      "outputs": []
    },
    {
      "cell_type": "code",
      "metadata": {
        "id": "Jp8yIQMBoI0I",
        "colab_type": "code",
        "colab": {}
      },
      "source": [
        "spark.read.table('regions2').where('regionid < 3').show()"
      ],
      "execution_count": 0,
      "outputs": []
    },
    {
      "cell_type": "markdown",
      "metadata": {
        "colab_type": "text",
        "id": "xt_OCqzCgUvK"
      },
      "source": [
        "## Alternate ways to code a query using SQL and methods."
      ]
    },
    {
      "cell_type": "code",
      "metadata": {
        "colab_type": "code",
        "id": "ZTph5vnOgUvL",
        "colab": {}
      },
      "source": [
        "print(spark.sql('select count(*) from regions').collect())\n",
        "spark.sql('select * from regions').count()"
      ],
      "execution_count": 0,
      "outputs": []
    },
    {
      "cell_type": "markdown",
      "metadata": {
        "colab_type": "text",
        "id": "ZQf2QOj2gUvQ"
      },
      "source": [
        "## Using SQL you can use familiar syntax instead of withColumn or withColumnRenamed methods.\n",
        "Note the expr function needs to be imported when you want to use a stringified SQL function using dot syntax."
      ]
    },
    {
      "cell_type": "code",
      "metadata": {
        "colab_type": "code",
        "id": "1p18BQ_pgUvR",
        "colab": {}
      },
      "source": [
        "from pyspark.sql.functions import expr\n",
        "\n",
        "t1 = spark.sql('select TerritoryID as TerrID, UPPER(TerritoryName) as TerritoryName, RegionID from territories')\n",
        "t1.show(5)\n",
        "\n",
        "from pyspark.sql.functions import expr\n",
        "territories.withColumn('TerritoryName', expr('UPPER(TerritoryName)')).withColumnRenamed('TerritoryID', 'TerrID').show(5)\n"
      ],
      "execution_count": 0,
      "outputs": []
    },
    {
      "cell_type": "code",
      "metadata": {
        "id": "nsi73PpHoI0f",
        "colab_type": "code",
        "colab": {}
      },
      "source": [
        "from pyspark.sql.functions import udf\n",
        "from pyspark.sql.types import *\n",
        "\n",
        "# This won't work though if you want to use python functions, you need to go another step\n",
        "# territories.withColumn('TerritoryName', territories.TerritoryName.upper()).show()\n",
        "\n",
        "# You need to make the python function callable by spark by wrapping it in the udf function\n",
        "# which tells spark what datatype it returns\n",
        "territories.withColumn('TerritoryName', udf(str.upper, StringType())(territories.TerritoryName)).show()\n",
        "\n"
      ],
      "execution_count": 0,
      "outputs": []
    },
    {
      "cell_type": "markdown",
      "metadata": {
        "colab_type": "text",
        "id": "E1_Baqf6gUvV"
      },
      "source": [
        "## If you want to use a function that is not a standard Python or SQL function, you can always create one in Python and make it callable from Spark."
      ]
    },
    {
      "cell_type": "code",
      "metadata": {
        "id": "3DZ-p4MmoI0i",
        "colab_type": "code",
        "colab": {}
      },
      "source": [
        "from pyspark.sql.functions import udf\n",
        "from pyspark.sql.types import *\n",
        "\n",
        "def inventoryvalue(quantity, price):\n",
        "    return quantity * price\n",
        "\n",
        "# Turn the Python function into a Spark callable function\n",
        "invvalue = udf(inventoryvalue, FloatType())\n",
        "p = products\n",
        "p2 = p.withColumn('value', invvalue(p.unitsinstock, p.unitprice))\n",
        "display(p2)\n",
        "\n",
        "\n"
      ],
      "execution_count": 0,
      "outputs": []
    },
    {
      "cell_type": "markdown",
      "metadata": {
        "id": "2ANiYGYGoI0m",
        "colab_type": "text"
      },
      "source": [
        "## Python decorators are an even better option."
      ]
    },
    {
      "cell_type": "code",
      "metadata": {
        "id": "nQUKWKd3oI0n",
        "colab_type": "code",
        "colab": {}
      },
      "source": [
        "@udf(FloatType())\n",
        "def inventoryvalue(quantity, price):\n",
        "    return quantity * price\n",
        "\n",
        "p2 = p.withColumn('value', inventoryvalue(p.unitsinstock, p.unitprice))\n",
        "display(p2)\n"
      ],
      "execution_count": 0,
      "outputs": []
    },
    {
      "cell_type": "code",
      "metadata": {
        "id": "83gxIGtQoI0p",
        "colab_type": "code",
        "colab": {}
      },
      "source": [
        "from pyspark.sql.functions import udf\n",
        "from pyspark.sql.types import *\n",
        "\n",
        "def inventoryvalue(quantity, price):\n",
        "    return quantity * price\n",
        "\n",
        "# Or dynamically wrap it, but it's harder to read\n",
        "p2 = p.withColumn('value', udf(inventoryvalue, FloatType())(p.unitsinstock, p.unitprice))\n",
        "display(p2)\n",
        "\n"
      ],
      "execution_count": 0,
      "outputs": []
    },
    {
      "cell_type": "markdown",
      "metadata": {
        "colab_type": "text",
        "id": "scBBkmrFgUvd"
      },
      "source": [
        "## To make it easier though, you could make the Python function into a udf that SQL can understand similar to how you can make a DataFrame seem like a virtual table with createOrReplaceTempView."
      ]
    },
    {
      "cell_type": "code",
      "metadata": {
        "colab_type": "code",
        "id": "A64igGvvgUvh",
        "colab": {}
      },
      "source": [
        "def reverseString(x):\n",
        "    return x[::-1]\n",
        "\n",
        "spark.udf.register('reverse', reverseString, StringType())\n",
        "\n",
        "spark.sql('select *, reverse(TerritoryName) as Reversed from Territories').orderBy('Reversed').show()"
      ],
      "execution_count": 0,
      "outputs": []
    },
    {
      "cell_type": "markdown",
      "metadata": {
        "colab_type": "text",
        "id": "11AafIOegUvl"
      },
      "source": [
        "## HQL has collect_set and collect_list functions to aggregate items into a list instead of summing them up. "
      ]
    },
    {
      "cell_type": "code",
      "metadata": {
        "colab_type": "code",
        "id": "cRm3IkEpgUvl",
        "scrolled": true,
        "colab": {}
      },
      "source": [
        "from pyspark.sql.functions import collect_list\n",
        "territories.groupBy(territories.RegionID).agg(collect_list(territories.TerritoryName)).show()\n",
        "\n",
        "tr1 = spark.sql(\"SELECT RegionID, collect_list(TerritoryName) AS TerritoryList FROM Territories GROUP BY RegionID\")\n",
        "tr1.show()\n",
        "tr1.printSchema()\n",
        "print(tr1.take(1))\n"
      ],
      "execution_count": 0,
      "outputs": []
    },
    {
      "cell_type": "markdown",
      "metadata": {
        "colab_type": "text",
        "id": "l-onOtyzgUvo"
      },
      "source": [
        "## Instead of a simple datatype, you could also collect complex structured objects using the HQL NAMED_STRUCT."
      ]
    },
    {
      "cell_type": "code",
      "metadata": {
        "colab_type": "code",
        "id": "Tolziu_tgUvp",
        "colab": {}
      },
      "source": [
        "sql = \"\"\"\n",
        "SELECT r.RegionID, r.RegionName\n",
        ", COLLECT_SET(NAMED_STRUCT(\"TerritoryID\", TerritoryID, \"TerritoryName\", TerritoryName)) AS TerritoryList\n",
        "FROM Regions AS r\n",
        "JOIN Territories AS t ON r.RegionID = t.RegionID\n",
        "GROUP BY r.RegionID, r.RegionName\n",
        "ORDER BY r.RegionID\n",
        "\"\"\"\n",
        "\n",
        "tr2 = spark.sql(sql)\n",
        "tr2.printSchema()\n",
        "print(tr2)\n",
        "tr2.show()\n",
        "print(tr2.take(2))\n",
        "tr2.write.json('TerritoryRegion.json')\n",
        "spark.sql('create table TerritoryRegion as ' + sql)"
      ],
      "execution_count": 0,
      "outputs": []
    },
    {
      "cell_type": "markdown",
      "metadata": {
        "colab_type": "text",
        "id": "h4VnZ0MKgUvs"
      },
      "source": [
        "## If you have data that is already collected into a complex datatype and want to flatten it, you could use HQL EXPLODE function."
      ]
    },
    {
      "cell_type": "markdown",
      "metadata": {
        "colab_type": "text",
        "id": "paYQteGWgUvt"
      },
      "source": [
        "## You could use the Spark explode method."
      ]
    },
    {
      "cell_type": "code",
      "metadata": {
        "colab_type": "code",
        "id": "2rSesh3PgUvu",
        "colab": {}
      },
      "source": [
        "from pyspark.sql.functions import explode\n",
        "tr1.select('RegionID', explode('TerritoryList')).show()\n"
      ],
      "execution_count": 0,
      "outputs": []
    },
    {
      "cell_type": "markdown",
      "metadata": {
        "colab_type": "text",
        "id": "lXxOSvqAgUvx"
      },
      "source": [
        "## Or if the DataFrame is turned into a Temp View, you could use the HQL query to do it."
      ]
    },
    {
      "cell_type": "code",
      "metadata": {
        "colab_type": "code",
        "id": "fnianeudgUvy",
        "colab": {}
      },
      "source": [
        "tr1.createOrReplaceTempView('RegionTerritories')\n",
        "sql = \"\"\"\n",
        "SELECT RegionID, TerritoryName\n",
        "FROM RegionTerritories\n",
        "LATERAL VIEW EXPLODE(TerritoryList) EXPLODED_TABLE AS TerritoryName\n",
        "ORDER BY RegionID, TerritoryName\n",
        "\"\"\"\n",
        "spark.sql(sql).show()"
      ],
      "execution_count": 0,
      "outputs": []
    },
    {
      "cell_type": "markdown",
      "metadata": {
        "colab_type": "text",
        "id": "M4XqNW4xgUv2"
      },
      "source": [
        "## Or you could select specific elements from a collection."
      ]
    },
    {
      "cell_type": "code",
      "metadata": {
        "colab_type": "code",
        "id": "nYvKH3VxgUv3",
        "colab": {}
      },
      "source": [
        "tr2.createOrReplaceTempView('RegionTerritories')\n",
        "spark.sql(\"select RegionId, RegionName, TerritoryList[0] as First, TerritoryList[size(TerritoryList) - 1] as Last, size(TerritoryList) as TerritoryCount from RegionTerritories\").show()\n"
      ],
      "execution_count": 0,
      "outputs": []
    },
    {
      "cell_type": "markdown",
      "metadata": {
        "colab_type": "text",
        "id": "OgXXtetSgUv6"
      },
      "source": [
        "## If the array is of structs, note the syntax of fetching the elements from the struct uses the . like an object property."
      ]
    },
    {
      "cell_type": "code",
      "metadata": {
        "colab_type": "code",
        "id": "t4iyj0JAgUv7",
        "colab": {}
      },
      "source": [
        "sql = \"\"\"\n",
        "SELECT RegionID, RegionName, Territory.TerritoryID AS TerritoryID\n",
        ", Territory.TerritoryName AS TerritoryName\n",
        "FROM RegionTerritories\n",
        "LATERAL VIEW EXPLODE(TerritoryList) EXPLODED_TABLE AS Territory\n",
        "\"\"\"\n",
        "spark.sql(sql).show()\n"
      ],
      "execution_count": 0,
      "outputs": []
    },
    {
      "cell_type": "markdown",
      "metadata": {
        "colab_type": "text",
        "id": "MDIPBzWWgUwA"
      },
      "source": [
        "## HOMEWORK: ## \n",
        "**First Challenge**\n",
        "\n",
        "Create a Python function to determine if a number is odd or even and use that to select only the even numbered shippers from the TSV folder of northwind. Note the TSV file does not have headers so you will need to do something to make the DataFrame have a meaningful structure. I would suggest using Spark SQL as much as possible to rename and cast the columns which are ShipperID, CompanyName, and Phone.\n",
        "\n",
        "**Second Challenge**\n",
        "\n",
        "Take the Order_LineItems.json folder, read it into a DataFrame, and flatten it and then calculate the average price paid for a product.\n",
        "\n",
        "<br>\n",
        "<details><summary>Click for <b>hint</b></summary>\n",
        "<p>\n",
        "Take a look at the MakeOrders_LineItems.py file provided to see how the Order_LineItems.json was generated in the first place\n",
        "<br>\n",
        "Use modulus with remainder of zero to determine if something is even\n",
        "<br>\n",
        "Use udf to make a version of the function that is callable using dot syntax and udf.register to make a version callable from within a SQL string\n",
        "<br>\n",
        "Use LATERAL VIEW EXPLODE() EXPLODED_TABLE to flatten out the nested format file\n",
        "<br>\n",
        "Once flattened do a traditional aggregate to calculate the average\n",
        "<br>\n",
        "<br>\n",
        "</p>\n",
        "</details>\n",
        "\n",
        "<details><summary>Click for <b>code</b></summary>\n",
        "<p>\n",
        "\n",
        "```python\n",
        "```\n",
        "</p>\n",
        "</details>\n",
        "\n",
        "\n"
      ]
    }
  ]
}