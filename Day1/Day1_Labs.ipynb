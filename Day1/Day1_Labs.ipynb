{
 "cells": [
  {
   "cell_type": "markdown",
   "metadata": {
    "colab_type": "text",
    "id": "view-in-github"
   },
   "source": [
    "<a href=\"https://colab.research.google.com/github/roitraining/SparkProgram/blob/master/Day1/Day1Labs.ipynb\" target=\"_parent\"><img src=\"https://colab.research.google.com/assets/colab-badge.svg\" alt=\"Open In Colab\"/></a>"
   ]
  },
  {
   "cell_type": "code",
   "execution_count": null,
   "metadata": {
    "colab": {},
    "colab_type": "code",
    "id": "-d2B_SWkUr8r"
   },
   "outputs": [],
   "source": [
    "import sys\n",
    "sys.path.append('/home/student/ROI/SparkProgram')\n",
    "from initspark import *\n",
    "sc, spark, conf = initspark()\n"
   ]
  },
  {
   "cell_type": "markdown",
   "metadata": {
    "colab_type": "text",
    "id": "MKi0nuXXUr8v"
   },
   "source": [
    "**LAB:** Put the regions folder found in /home/student/ROI/SparkProgram/datasets/northwind/CSV/regions into HDFS. Read it into an RDD and convert it into a tuple shape."
   ]
  },
  {
   "cell_type": "code",
   "execution_count": null,
   "metadata": {
    "colab": {},
    "colab_type": "code",
    "id": "IIcaEx_MUr8x"
   },
   "outputs": [],
   "source": [
    "! hadoop fs -put /class/datasets/northwind/CSV/regions /regions"
   ]
  },
  {
   "cell_type": "code",
   "execution_count": null,
   "metadata": {
    "colab": {},
    "colab_type": "code",
    "id": "gQ5lYOFqUr80",
    "outputId": "4e5e7cf6-0bd0-4f56-9c99-100498330693"
   },
   "outputs": [],
   "source": [
    "regions = sc.textFile('hdfs://localhost:9000/regions')\n",
    "regions = regions.map(lambda x : x.split(',')).map(lambda x : (int(x[0]), x[1]))\n",
    "print (regions.collect())"
   ]
  },
  {
   "cell_type": "markdown",
   "metadata": {
    "colab_type": "text",
    "id": "M1-aKC9mUr88"
   },
   "source": [
    "**LAB:** Try to sort region by name and descending order by ID."
   ]
  },
  {
   "cell_type": "code",
   "execution_count": null,
   "metadata": {
    "colab": {},
    "colab_type": "code",
    "id": "wTzNYHFdUr89",
    "outputId": "4018beb7-c25e-4689-ce6c-5bca698b0fdd"
   },
   "outputs": [],
   "source": [
    "print (regions.sortByKey(ascending = False).collect())"
   ]
  },
  {
   "cell_type": "code",
   "execution_count": null,
   "metadata": {
    "colab": {},
    "colab_type": "code",
    "id": "72HbeJeuUr9B",
    "outputId": "1f6a1c8e-fbcd-44b1-f744-199d015e5587"
   },
   "outputs": [],
   "source": [
    "print (regions.sortBy(lambda x : x[1]).collect())"
   ]
  },
  {
   "cell_type": "markdown",
   "metadata": {
    "colab_type": "text",
    "id": "eE5Wx0GOUr9F"
   },
   "source": [
    "**LAB:** Load territories into HDFS and join it to regions."
   ]
  },
  {
   "cell_type": "code",
   "execution_count": null,
   "metadata": {
    "colab": {},
    "colab_type": "code",
    "id": "hyYTLBa9Ur9G"
   },
   "outputs": [],
   "source": [
    "! hadoop fs -put /class/datasets/northwind/CSV/territories /territories"
   ]
  },
  {
   "cell_type": "code",
   "execution_count": null,
   "metadata": {
    "colab": {},
    "colab_type": "code",
    "id": "yGap32NhUr9N",
    "outputId": "082bab04-626c-477c-f426-e70eda5c73b0"
   },
   "outputs": [],
   "source": [
    "territories = sc.textFile('hdfs://localhost:9000/territories')\n",
    "territories = territories.map(lambda x : x.split(',')).map(lambda x : (int(x[0]), x[1], int(x[2])))\n",
    "print (territories.collect())"
   ]
  },
  {
   "cell_type": "code",
   "execution_count": null,
   "metadata": {
    "colab": {},
    "colab_type": "code",
    "id": "eM2-Hwu4Ur9R",
    "outputId": "585ba549-888a-415a-ca62-5e01af1dd63a"
   },
   "outputs": [],
   "source": [
    "region_territories = regions.join(territories.map(lambda x : (x[2], (x[0],x[1]))))\n",
    "#print (region_territories.collect())\n",
    "region_territories = region_territories.map(lambda x : (x[0], (x[1][0], *x[1][1])))\n",
    "print (region_territories.collect())\n"
   ]
  },
  {
   "cell_type": "markdown",
   "metadata": {
    "colab_type": "text",
    "id": "F-LJHqSyUr9U"
   },
   "source": [
    "**LAB:** Use the territories RDD to count how many territories are in each region. Display the results in regionID order and then descending order based on the counts."
   ]
  },
  {
   "cell_type": "code",
   "execution_count": null,
   "metadata": {
    "colab": {},
    "colab_type": "code",
    "id": "lXn67dU5Ur9W",
    "outputId": "e18cfb42-68a2-4aeb-83d8-a6656750a693"
   },
   "outputs": [],
   "source": [
    "region_count = territories.map(lambda x : (x[2], 1)).reduceByKey(lambda x, y: x + y)\n",
    "print(region_count.sortByKey().collect())"
   ]
  },
  {
   "cell_type": "code",
   "execution_count": null,
   "metadata": {
    "colab": {},
    "colab_type": "code",
    "id": "sGSwE3tLUr9f",
    "outputId": "24dd997d-8d7a-438b-e060-cf4ca14fc7d5"
   },
   "outputs": [],
   "source": [
    "print(region_count.sortBy(lambda x : x[1], ascending = False).collect())"
   ]
  },
  {
   "cell_type": "code",
   "execution_count": null,
   "metadata": {
    "colab": {},
    "colab_type": "code",
    "id": "BXygCABOUr9p"
   },
   "outputs": [],
   "source": []
  }
 ],
 "metadata": {
  "colab": {
   "include_colab_link": true,
   "name": "Day1Labs.ipynb",
   "provenance": [],
   "version": "0.3.2"
  },
  "kernelspec": {
   "display_name": "Python 3",
   "language": "python",
   "name": "python3"
  },
  "language_info": {
   "codemirror_mode": {
    "name": "ipython",
    "version": 3
   },
   "file_extension": ".py",
   "mimetype": "text/x-python",
   "name": "python",
   "nbconvert_exporter": "python",
   "pygments_lexer": "ipython3",
   "version": "3.7.3"
  }
 },
 "nbformat": 4,
 "nbformat_minor": 1
}
