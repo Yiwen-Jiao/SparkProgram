{
 "cells": [
  {
   "cell_type": "markdown",
   "metadata": {
    "colab_type": "text",
    "id": "view-in-github"
   },
   "source": [
    "<a href=\"https://colab.research.google.com/github/roitraining/SparkProgram/blob/master/Day1/IntroToSpark.ipynb\" target=\"_parent\"><img src=\"https://colab.research.google.com/assets/colab-badge.svg\" alt=\"Open In Colab\"/></a>"
   ]
  },
  {
   "cell_type": "markdown",
   "metadata": {},
   "source": [
    "### The Hadoop File System (HDFS) is a distributed file system that spans across multiple nodes and saves files in a cluster. It slices large files into blocks and redundantly saves multiple copies across several nodes in the cluster according to the replication factor chosen for the cluster. \n",
    "To examine the contents of the HDFS cluster, you either need to install the Hadoop tools on a local machine or ssh into a remote machine that has them installed.\n",
    "Try the following commands to see what is currently on the cluster and add new files to it."
   ]
  },
  {
   "cell_type": "code",
   "execution_count": null,
   "metadata": {},
   "outputs": [],
   "source": [
    "! hadoop fs -ls /"
   ]
  },
  {
   "cell_type": "code",
   "execution_count": null,
   "metadata": {},
   "outputs": [],
   "source": [
    "! hadoop fs -put /class/datasets/northwind/CSV/categories /"
   ]
  },
  {
   "cell_type": "code",
   "execution_count": null,
   "metadata": {},
   "outputs": [],
   "source": [
    "! hadoop fs -ls /\n",
    "! hadoop fs -ls /categories"
   ]
  },
  {
   "cell_type": "markdown",
   "metadata": {
    "colab_type": "text",
    "id": "stLlpheLWf_j"
   },
   "source": [
    "### Create the Spark context to start a session and connect to the cluster."
   ]
  },
  {
   "cell_type": "code",
   "execution_count": null,
   "metadata": {
    "colab": {},
    "colab_type": "code",
    "id": "oC4ujoSFWf_m"
   },
   "outputs": [],
   "source": [
    "import sys\n",
    "sys.path.append('/class')\n",
    "from initspark import *\n",
    "sc, spark, conf = initspark()\n"
   ]
  },
  {
   "cell_type": "markdown",
   "metadata": {
    "colab_type": "text",
    "id": "uH-N0vuoWf_v"
   },
   "source": [
    "### Read a text file from the local file system."
   ]
  },
  {
   "cell_type": "code",
   "execution_count": null,
   "metadata": {
    "colab": {},
    "colab_type": "code",
    "id": "A6iEi36CWf_w",
    "outputId": "830c2c60-7f75-484f-f1ea-02c7753f5381"
   },
   "outputs": [],
   "source": [
    "shake = sc.textFile('/class/datasets/text/shakespeare.txt')\n",
    "print(shake.count())\n",
    "print(shake.take(10))"
   ]
  },
  {
   "cell_type": "markdown",
   "metadata": {
    "colab_type": "text",
    "id": "Bt-1Pg9DWf_1"
   },
   "source": [
    "### Use the map method to apply a function call on each element."
   ]
  },
  {
   "cell_type": "code",
   "execution_count": null,
   "metadata": {
    "colab": {},
    "colab_type": "code",
    "id": "D3wwsvU6Wf_2",
    "outputId": "7d473022-d6df-4e99-8265-bd19b4b96979"
   },
   "outputs": [],
   "source": [
    "shake2 = shake.map(str.upper)\n",
    "shake2.take(10)"
   ]
  },
  {
   "cell_type": "markdown",
   "metadata": {
    "colab_type": "text",
    "id": "qx0qMtPyWf_9"
   },
   "source": [
    "### Using the split method you get a list of lists."
   ]
  },
  {
   "cell_type": "code",
   "execution_count": null,
   "metadata": {
    "colab": {},
    "colab_type": "code",
    "id": "Szr74Z3AWf__",
    "outputId": "9eb7ee2c-1f73-4954-e536-2d30cdbe1ecc"
   },
   "outputs": [],
   "source": [
    "shake3 = shake.map(lambda x : x.split(' '))\n",
    "shake3.take(10)"
   ]
  },
  {
   "cell_type": "markdown",
   "metadata": {
    "colab": {},
    "colab_type": "code",
    "id": "y-L0L9BiWgAF"
   },
   "source": [
    "### The flatMap method flattens the inner list to return one big list of strings instead"
   ]
  },
  {
   "cell_type": "code",
   "execution_count": null,
   "metadata": {
    "colab": {},
    "colab_type": "code",
    "id": "gP2oWr9CWgAI",
    "outputId": "971838af-9d18-47e7-bf4b-b0232d7c81a0"
   },
   "outputs": [],
   "source": [
    "shake4 = shake.flatMap(lambda x : x.split(' '))\n",
    "shake4.take(20)"
   ]
  },
  {
   "cell_type": "markdown",
   "metadata": {
    "colab_type": "text",
    "id": "BdStyssVWgAU"
   },
   "source": [
    "### Parallelize will load manually created data into the spark cluster into an RDD."
   ]
  },
  {
   "cell_type": "code",
   "execution_count": null,
   "metadata": {
    "colab": {},
    "colab_type": "code",
    "id": "XN8v44eNWgAW",
    "outputId": "73694b7c-5944-4172-9622-7aa2315e634b"
   },
   "outputs": [],
   "source": [
    "r = sc.parallelize(range(1,11))\n",
    "print(r.collect())\n",
    "print(r.take(5))"
   ]
  },
  {
   "cell_type": "markdown",
   "metadata": {
    "colab_type": "text",
    "id": "SQVoJi3CWgAo"
   },
   "source": [
    "### Load a folder stored on HDFS."
   ]
  },
  {
   "cell_type": "code",
   "execution_count": null,
   "metadata": {
    "colab": {},
    "colab_type": "code",
    "id": "tL89iGyOWgAq",
    "outputId": "eadea4c6-c6e5-430f-b351-66c38372f758"
   },
   "outputs": [],
   "source": [
    "sc.textFile('hdfs://localhost:9000/categories').collect()"
   ]
  },
  {
   "cell_type": "markdown",
   "metadata": {
    "colab_type": "text",
    "id": "FlQ_B5enWgAz"
   },
   "source": [
    "### Use the helper function to point to the HDFS URI."
   ]
  },
  {
   "cell_type": "code",
   "execution_count": null,
   "metadata": {
    "colab": {},
    "colab_type": "code",
    "id": "uCqmMuFLWgA1",
    "outputId": "0fe86068-cb9d-4318-ad01-f2a4a9ac0e4d"
   },
   "outputs": [],
   "source": [
    "cat = sc.textFile(hdfsPath('categories'))\n",
    "print(cat.takeOrdered(5))\n",
    "print(cat.top(5))\n",
    "print(cat.takeSample(False,5))\n",
    "cat.foreach(lambda x : print(x.upper)) # does not display properly in notebook"
   ]
  },
  {
   "cell_type": "markdown",
   "metadata": {
    "colab_type": "text",
    "id": "MqD-2-05WgBC"
   },
   "source": [
    "### Save the results in an RDD to disk. Note how it makes a folder and fills it with as many files as there are nodes solving the problem. Also, you must make sure that the folder does not exist or it throws an exception."
   ]
  },
  {
   "cell_type": "code",
   "execution_count": null,
   "metadata": {
    "colab": {},
    "colab_type": "code",
    "id": "au3L8fPDWgBE"
   },
   "outputs": [],
   "source": [
    "! rm -r /class/file1.txt\n",
    "cat.saveAsTextFile('/class/file1.txt')"
   ]
  },
  {
   "cell_type": "code",
   "execution_count": null,
   "metadata": {
    "colab": {},
    "colab_type": "code",
    "id": "TK88KrBTWgBN",
    "outputId": "f2f6f5e4-c75a-43a3-b703-dad4ba6215d5"
   },
   "outputs": [],
   "source": [
    "print(cat.map(str.upper).collect())"
   ]
  },
  {
   "cell_type": "markdown",
   "metadata": {
    "colab_type": "text",
    "id": "_vn43ZGHWgBT"
   },
   "source": [
    "### Parse the string into a tuple to resemble a record structure."
   ]
  },
  {
   "cell_type": "code",
   "execution_count": null,
   "metadata": {
    "colab": {},
    "colab_type": "code",
    "id": "KJ2bIehvWgBU",
    "outputId": "95b00339-42bc-4368-89d0-d0271970a8ab"
   },
   "outputs": [],
   "source": [
    "cat1 = cat.map(lambda x : tuple(x.split(',')))\n",
    "cat1 = cat1.map(lambda x : (int(x[0]), x[1], x[2]))\n",
    "cat1.take(10)"
   ]
  },
  {
   "cell_type": "markdown",
   "metadata": {
    "colab_type": "text",
    "id": "ko12EKvYWgBX"
   },
   "source": [
    "## LAB: ## \n",
    "### Put the regions folder found in /class/datasets/northwind/csv/regions into HDFS. Read it into an RDD and convert it into a tuple shape.\n",
    "<br>\n",
    "<details><summary>Click for hint</summary>\n",
    "<p>\n",
    "Use hadoop fs -put or hdfs dfs -put\n",
    "<br>\n",
    "Read the file using sc.textFile\n",
    "<br>\n",
    "Do a map to split and another to convert the datatypes\n",
    "<br>\n",
    "<br>\n",
    "</p>\n",
    "</details>\n",
    "\n",
    "<details><summary>Click for code</summary>\n",
    "<p>\n",
    "\n",
    "```python\n",
    "! hadoop fs -put /class/datasets/northwind/CSV/regions /regions\n",
    "regions = sc.textFile('hdfs://localhost:9000/regions')\n",
    "regions = regions.map(lambda x : x.split(',')).map(lambda x : (int(x[0]), x[1]))\n",
    "print(regions.collect())\n",
    "```\n",
    "</p>\n",
    "</details>"
   ]
  },
  {
   "cell_type": "code",
   "execution_count": null,
   "metadata": {
    "colab": {},
    "colab_type": "code",
    "id": "qZWX8p7nWgBY"
   },
   "outputs": [],
   "source": []
  },
  {
   "cell_type": "markdown",
   "metadata": {
    "colab_type": "text",
    "id": "LytUF8F3WgBc"
   },
   "source": [
    "### Convert the tuple into a dictionary as an alternative form."
   ]
  },
  {
   "cell_type": "code",
   "execution_count": null,
   "metadata": {
    "colab": {},
    "colab_type": "code",
    "id": "c_x-wvKBWgBd",
    "outputId": "6c5c3b70-c805-47dc-b132-b3f57066cbd0"
   },
   "outputs": [],
   "source": [
    "cat2 = cat1.map(lambda x : dict(zip(['CategoryID', 'Name', 'Description'], x)))\n",
    "cat2.take(10)"
   ]
  },
  {
   "cell_type": "markdown",
   "metadata": {
    "colab_type": "text",
    "id": "Lc8uQPq1WgBi"
   },
   "source": [
    "### You can chain multiple transformations together to do it all in one step."
   ]
  },
  {
   "cell_type": "code",
   "execution_count": null,
   "metadata": {
    "colab": {},
    "colab_type": "code",
    "id": "6nLPu-glWgBj",
    "outputId": "0442658f-b031-4cd8-8b60-f9d7ca6fabd3"
   },
   "outputs": [],
   "source": [
    "cat2 = cat.map(lambda x : tuple(x.split(','))) \\\n",
    "      .map(lambda x : (int(x[0]), x[1], x[2])) \\\n",
    "      .map(lambda x : dict(zip(['CategoryID', 'Name', 'Description'], x)))\n",
    "cat2.take(10)\n"
   ]
  },
  {
   "cell_type": "markdown",
   "metadata": {
    "colab_type": "text",
    "id": "1451bwFaWgBn"
   },
   "source": [
    "### The filter method takes a lambda that returns a True or False."
   ]
  },
  {
   "cell_type": "code",
   "execution_count": null,
   "metadata": {
    "colab": {},
    "colab_type": "code",
    "id": "WQzyEYCYWgBo",
    "outputId": "e9041e00-3394-4778-9cea-d99d774db4bd"
   },
   "outputs": [],
   "source": [
    "cat1.filter(lambda x : x[0] <= 5).collect()\n"
   ]
  },
  {
   "cell_type": "markdown",
   "metadata": {
    "colab_type": "text",
    "id": "22q9mGVrWgBu"
   },
   "source": [
    "### The filter expressions can be more complicated."
   ]
  },
  {
   "cell_type": "code",
   "execution_count": null,
   "metadata": {
    "colab": {},
    "colab_type": "code",
    "id": "gIEc83jgWgBw",
    "outputId": "980e4be6-2ea0-4771-e097-f6e50e42173e"
   },
   "outputs": [],
   "source": [
    "cat2.filter(lambda x : x['CategoryID'] % 2 == 0 and 'e' in x['Name']).collect()"
   ]
  },
  {
   "cell_type": "markdown",
   "metadata": {
    "colab_type": "text",
    "id": "s-mS0TT9WgB6"
   },
   "source": [
    "### The sortBy method returns an expression that is used to sort the data."
   ]
  },
  {
   "cell_type": "code",
   "execution_count": null,
   "metadata": {
    "colab": {},
    "colab_type": "code",
    "id": "WQwZ4Z_vWgB7",
    "outputId": "eb921bfa-44f1-4808-d996-181b4318f3a0"
   },
   "outputs": [],
   "source": [
    "cat1.sortBy(lambda x : x[2]).collect()"
   ]
  },
  {
   "cell_type": "markdown",
   "metadata": {
    "colab_type": "text",
    "id": "d4gTRsTrWgCD"
   },
   "source": [
    "### sortBy has an option ascending parameter to sort in reverse order."
   ]
  },
  {
   "cell_type": "code",
   "execution_count": null,
   "metadata": {
    "colab": {},
    "colab_type": "code",
    "id": "GRq5r1UAWgCF",
    "outputId": "254d72b5-004a-4ed4-fd09-a19b6d0eb12c"
   },
   "outputs": [],
   "source": [
    "cat1.sortBy(lambda x : x[0], ascending = False).collect()"
   ]
  },
  {
   "cell_type": "markdown",
   "metadata": {
    "colab_type": "text",
    "id": "r40EeKuEWgCK"
   },
   "source": [
    "## LAB:##\n",
    "### Try to sort region descending order by ID and then by name in ascending order. ###\n",
    "\n",
    "<br>\n",
    "<details><summary>Click for hint</summary>\n",
    "<p>\n",
    "Use sortByKey and sortBy respectively.\n",
    "<br>\n",
    "sortBy needs a lambda\n",
    "<br><br>\n",
    "</p>\n",
    "</details>\n",
    "\n",
    "<details><summary>Click for code</summary>\n",
    "<p>\n",
    "\n",
    "```python\n",
    "print(regions.sortByKey(ascending = False).collect())\n",
    "print(regions.sortBy(lambda x : x[1]).collect())\n",
    "```\n",
    "</p>\n",
    "</details>"
   ]
  },
  {
   "cell_type": "code",
   "execution_count": null,
   "metadata": {
    "colab": {},
    "colab_type": "code",
    "id": "eF5E8yZyWgCL"
   },
   "outputs": [],
   "source": []
  },
  {
   "cell_type": "markdown",
   "metadata": {
    "colab_type": "text",
    "id": "J4e5XbSMWgCO"
   },
   "source": [
    "### Reshape categories from a tuple of three elements like (1, 'Beverages', 'Soft drinks') to a tuple with two elements (key, value) like (1, ('Beverages', 'Soft drinks'))."
   ]
  },
  {
   "cell_type": "code",
   "execution_count": null,
   "metadata": {
    "colab": {},
    "colab_type": "code",
    "id": "yu2izny5WgCP",
    "outputId": "12e49cf4-53b1-490c-c50d-79760fe07ac7"
   },
   "outputs": [],
   "source": [
    "cat3 = cat1.map(lambda x : (x[0], (x[1], x[2])))\n",
    "cat3.collect()"
   ]
  },
  {
   "cell_type": "markdown",
   "metadata": {
    "colab_type": "text",
    "id": "Ge3v9g1NWgCR"
   },
   "source": [
    "### The sortByKey method does not require a function as a parameter if the data is structured into a tuple of the shape (key, value)."
   ]
  },
  {
   "cell_type": "code",
   "execution_count": null,
   "metadata": {
    "colab": {},
    "colab_type": "code",
    "id": "MF6jtxiKWgCS",
    "outputId": "2b88f545-ec7f-4664-a74d-2c38fdef1a34"
   },
   "outputs": [],
   "source": [
    "cat3.sortByKey(ascending=False).collect()"
   ]
  },
  {
   "cell_type": "markdown",
   "metadata": {
    "colab_type": "text",
    "id": "Ubk9dpCWWgCX"
   },
   "source": [
    "### Read in another CSV file."
   ]
  },
  {
   "cell_type": "code",
   "execution_count": null,
   "metadata": {
    "colab": {},
    "colab_type": "code",
    "id": "dprx0Q-_WgCY",
    "outputId": "b1bd9fd2-489c-4c5a-c981-a1666eae0d0b"
   },
   "outputs": [],
   "source": [
    "prod = shake = sc.textFile('/class/datasets/northwind/CSV/products')\n",
    "print(prod.count())\n",
    "prod.take(4)\n"
   ]
  },
  {
   "cell_type": "markdown",
   "metadata": {
    "colab_type": "text",
    "id": "GtLTEKPgWgCb"
   },
   "source": [
    "### Split it up and just keep the ProductID, ProductName, CategoryID, Price, Quantity values."
   ]
  },
  {
   "cell_type": "code",
   "execution_count": null,
   "metadata": {
    "colab": {},
    "colab_type": "code",
    "id": "BAEwAdJUWgCc",
    "outputId": "7a9bbdb5-ccd6-4b04-f779-be689cefc0f8"
   },
   "outputs": [],
   "source": [
    "prod1 = prod.map(lambda x : x.split(',')).map(lambda x : (int(x[0]), x[1], int(x[3]), float(x[5]), int(x[6])))\n",
    "prod1.take(5)"
   ]
  },
  {
   "cell_type": "markdown",
   "metadata": {
    "colab_type": "text",
    "id": "962IynkWWgCg"
   },
   "source": [
    "### Reshape it to a key value tuple."
   ]
  },
  {
   "cell_type": "code",
   "execution_count": null,
   "metadata": {
    "colab": {},
    "colab_type": "code",
    "id": "EIP64lugWgCh",
    "outputId": "02c6d256-34f3-4520-91a8-c6eacc7bdf51"
   },
   "outputs": [],
   "source": [
    "prod2 = prod1.map(lambda x : (x[2], (x[0], x[1], x[3], x[4])))\n",
    "prod2.take(5)"
   ]
  },
  {
   "cell_type": "code",
   "execution_count": null,
   "metadata": {
    "colab": {},
    "colab_type": "code",
    "id": "G1hNliYJWgCl",
    "outputId": "8f5bea49-0249-4799-e277-4bf4e9705740"
   },
   "outputs": [],
   "source": [
    "cat3.collect()"
   ]
  },
  {
   "cell_type": "markdown",
   "metadata": {
    "colab_type": "text",
    "id": "aS2NAAXHWgCo"
   },
   "source": [
    "### Both c3 and prod2 are in key value tuple format so they can be joined to produce a new tuple of (key, (cat, prod))."
   ]
  },
  {
   "cell_type": "code",
   "execution_count": null,
   "metadata": {
    "colab": {},
    "colab_type": "code",
    "id": "7ZmbDZCGWgCp",
    "outputId": "ce4fbe93-356d-4874-855b-58dcd459dd1c"
   },
   "outputs": [],
   "source": [
    "joined = cat3.join(prod2)\n",
    "joined.sortByKey().take(15)"
   ]
  },
  {
   "cell_type": "markdown",
   "metadata": {
    "colab_type": "text",
    "id": "OI8VffUbWgCt"
   },
   "source": [
    "## LAB: ##\n",
    "### Load territories into HDFS and join it to regions. ###\n",
    "\n",
    "\n",
    "<br>\n",
    "<details><summary>Click for hint</summary>\n",
    "<p>\n",
    "Put /class/datasets/northwind/CSV/territories into HDFS\n",
    "<br>\n",
    "Use sc.textFile to read it into an RDD\n",
    "<br>\n",
    "Use map to split and convert it to the proper datatypes\n",
    "<br>\n",
    "Use the join method\n",
    "<br><br>\n",
    "</p>\n",
    "</details>\n",
    "\n",
    "<details><summary>Click for code</summary>\n",
    "<p>\n",
    "\n",
    "```python\n",
    "! hadoop fs -put /class/datasets/northwind/CSV/territories /territories\n",
    "\n",
    "territories = sc.textFile('hdfs://localhost:9000/territories')\n",
    "territories = territories.map(lambda x : x.split(',')).map(lambda x : (int(x[0]), x[1], int(x[2])))\n",
    "print(territories.collect())\n",
    "\n",
    "region_territories = regions.join(territories.map(lambda x : (x[2], (x[0],x[1]))))\n",
    "print(region_territories.collect())\n",
    "# Reshape it to make it look more normal. The * in front of the x is a python unpacking trick\n",
    "region_territories = region_territories.map(lambda x : (x[0], (x[1][0], *x[1][1])))\n",
    "print(region_territories.collect())\n",
    "```\n",
    "</p>\n",
    "</details>"
   ]
  },
  {
   "cell_type": "code",
   "execution_count": null,
   "metadata": {
    "colab": {},
    "colab_type": "code",
    "id": "jG-jz9oCWgCu"
   },
   "outputs": [],
   "source": []
  },
  {
   "cell_type": "markdown",
   "metadata": {
    "colab_type": "text",
    "id": "S7_N8D4vWgCy"
   },
   "source": [
    "### The groupBy methods are seldom used but they can produce hierarchies where children records are embedded inside a parent."
   ]
  },
  {
   "cell_type": "code",
   "execution_count": null,
   "metadata": {
    "colab": {},
    "colab_type": "code",
    "id": "LlfoIOfvWgCz",
    "outputId": "973fe5ec-7fae-400d-a6db-036fc446f096"
   },
   "outputs": [],
   "source": [
    "list(group1.take(1)[0][1])"
   ]
  },
  {
   "cell_type": "code",
   "execution_count": null,
   "metadata": {
    "colab": {},
    "colab_type": "code",
    "id": "q8XG_Zh1WgC5",
    "outputId": "360d3f8d-f00b-472e-bb04-92c289a53938"
   },
   "outputs": [],
   "source": [
    "group1 = prod2.groupByKey()\n",
    "group1.take(3)"
   ]
  },
  {
   "cell_type": "code",
   "execution_count": null,
   "metadata": {
    "colab": {},
    "colab_type": "code",
    "id": "Mi73ZFk4WgC_",
    "outputId": "8035390a-274d-40e1-a736-07ee8a87cb02"
   },
   "outputs": [],
   "source": [
    "group2 = [(key, list(it)) for key, it in group1.collect()]\n",
    "for k,v in group2:\n",
    "    print ('Key:', k)\n",
    "    for x in v:\n",
    "        print(x)\n",
    "#print (group2)"
   ]
  },
  {
   "cell_type": "markdown",
   "metadata": {
    "colab_type": "text",
    "id": "BiQFuV5bWgDF"
   },
   "source": [
    "### The reduce methods take a function as a parameter that tells Spark how to accumulate the values for each group. The function takes two parameters; the first is the accumulated value and the second is the next value in the list. "
   ]
  },
  {
   "cell_type": "code",
   "execution_count": null,
   "metadata": {
    "colab": {},
    "colab_type": "code",
    "id": "7FCNryN_WgDG",
    "outputId": "aebca737-a603-46cf-c7bb-e8382b673852"
   },
   "outputs": [],
   "source": [
    "shake4.map(lambda x : (x, 1)).reduceByKey(lambda x, y : x + y).sortBy(lambda x : x[1], ascending = False).take(10)"
   ]
  },
  {
   "cell_type": "markdown",
   "metadata": {
    "colab_type": "text",
    "id": "agTxvAFjWgDK"
   },
   "source": [
    "## LAB: ## \n",
    "### Use the territories RDD to count how many territories are in each region. \n",
    "### Display the results in regionID order and then descending order based on the counts.\n",
    "<br>\n",
    "<details><summary>Click for hint</summary>\n",
    "<p>\n",
    "Use map to put the key first then reduceByKey to accumulate the values\n",
    "<br>\n",
    "Use sortByKey to sort by regionID and sortBy with a lambda to sort by counts\n",
    "<br><br>\n",
    "</p>\n",
    "</details>\n",
    "\n",
    "<details><summary>Click for code</summary>\n",
    "<p>\n",
    "\n",
    "```python\n",
    "region_count = territories.map(lambda x : (x[2], 1)).reduceByKey(lambda x, y: x + y)\n",
    "print(region_count.sortByKey().collect())\n",
    "print(region_count.sortBy(lambda x : x[1], ascending = False).collect())\n",
    "```\n",
    "</p>\n",
    "</details>"
   ]
  },
  {
   "cell_type": "code",
   "execution_count": null,
   "metadata": {
    "colab": {},
    "colab_type": "code",
    "id": "PF1xAAZVWgDL"
   },
   "outputs": [],
   "source": []
  },
  {
   "cell_type": "markdown",
   "metadata": {
    "colab_type": "text",
    "id": "GejVQTZMWgDP"
   },
   "source": [
    "### In this example, we are adding up all the prices for each categoryID."
   ]
  },
  {
   "cell_type": "code",
   "execution_count": null,
   "metadata": {
    "colab": {},
    "colab_type": "code",
    "id": "QTQCEouBWgDQ",
    "outputId": "a2569d09-f145-4c64-fa15-585e731063b2"
   },
   "outputs": [],
   "source": [
    "red1 = prod2.map(lambda x : (x[0], x[1][2])).reduceByKey(lambda x, y: x + y)\n",
    "red1.collect()"
   ]
  },
  {
   "cell_type": "markdown",
   "metadata": {
    "colab_type": "text",
    "id": "FH_hY2_PWgDV"
   },
   "source": [
    "### To accumulate more than one value, use a tuple to hold as many values as you want to aggregate."
   ]
  },
  {
   "cell_type": "code",
   "execution_count": null,
   "metadata": {
    "colab": {},
    "colab_type": "code",
    "id": "FtQX34KiWgDW",
    "outputId": "246efc24-b9a5-4411-9ab6-b27fa07dcfea"
   },
   "outputs": [],
   "source": [
    "red1 = prod2.map(lambda x : (x[0], (x[1][2], x[1][3], 1))).reduceByKey(lambda x, y: (x[0] + y[0], x[1] + y[1], x[2] + y[2]))\n",
    "red1.collect()"
   ]
  },
  {
   "cell_type": "markdown",
   "metadata": {
    "colab_type": "text",
    "id": "-e6do4WZWgDg"
   },
   "source": [
    "### Some Python magic can make things easier in the long run.\n",
    "Named tuples make accessing the elements of the row easier.\n",
    "Unpacking using the * is a neat Python trick that is widely used. \n",
    "datetime has function to convert a string into a date"
   ]
  },
  {
   "cell_type": "code",
   "execution_count": null,
   "metadata": {
    "colab": {},
    "colab_type": "code",
    "id": "NoiIjU2wWgDl"
   },
   "outputs": [],
   "source": [
    "mort = sc.textFile('/class/datasets/finance/30YearMortgage.csv')\n",
    "head = mort.first()\n",
    "mort = mort.filter(lambda x : x != head)"
   ]
  },
  {
   "cell_type": "code",
   "execution_count": null,
   "metadata": {
    "colab": {},
    "colab_type": "code",
    "id": "4fyvY687WgDp",
    "outputId": "d046dfa1-bd19-43f7-bc2f-0d522b24f10a"
   },
   "outputs": [],
   "source": [
    "from datetime import date, datetime\n",
    "from collections import namedtuple\n",
    "Rate = namedtuple('Rate','date fed_fund_rate avg_rate_30year')\n",
    "mort1 = mort.map(lambda x : Rate(*(x.split(','))))\n",
    "mort2 = mort1.map(lambda x : Rate(datetime.strptime(x.date, '%Y-%m').date(), float(x.fed_fund_rate), float(x.avg_rate_30year)))\n",
    "mort2.take(5)"
   ]
  },
  {
   "cell_type": "code",
   "execution_count": null,
   "metadata": {
    "colab": {},
    "colab_type": "code",
    "id": "4i7WOKwIWgDt",
    "outputId": "9a7bc4b3-28e9-41b6-9b16-bc1c66123225",
    "scrolled": true
   },
   "outputs": [],
   "source": [
    "mort2.filter(lambda x : x.fed_fund_rate > .1 ).collect()"
   ]
  },
  {
   "cell_type": "markdown",
   "metadata": {
    "colab_type": "text",
    "id": "cjXdMjdxWgDw"
   },
   "source": [
    "### HOMEWORK:\n"
   ]
  },
  {
   "cell_type": "code",
   "execution_count": null,
   "metadata": {
    "colab": {},
    "colab_type": "code",
    "id": "WQNAL1_xWgDx"
   },
   "outputs": [],
   "source": []
  }
 ],
 "metadata": {
  "colab": {
   "include_colab_link": true,
   "name": "IntroToSpark.ipynb",
   "provenance": [],
   "version": "0.3.2"
  },
  "kernelspec": {
   "display_name": "Python 3",
   "language": "python",
   "name": "python3"
  },
  "language_info": {
   "codemirror_mode": {
    "name": "ipython",
    "version": 3
   },
   "file_extension": ".py",
   "mimetype": "text/x-python",
   "name": "python",
   "nbconvert_exporter": "python",
   "pygments_lexer": "ipython3",
   "version": "3.7.3"
  }
 },
 "nbformat": 4,
 "nbformat_minor": 1
}
