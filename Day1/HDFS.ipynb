{
 "cells": [
  {
   "cell_type": "markdown",
   "metadata": {},
   "source": [
    "The Hadoop File System (HDFS) is a distributed file system that spans across multiple nodes and save file in a cluster. It slices large files into blocks and redundantly saves multiple copies across several nodes in the cluster according to the replication factor chosen for the cluster. \n",
    "To examine the contents of the HDFS cluster you either need to install the hadoop tools on a local machine or ssh into a remote machine that has them installed.\n",
    "Try the following commands to see what is currently on the cluster and add new files to it."
   ]
  },
  {
   "cell_type": "code",
   "execution_count": 1,
   "metadata": {},
   "outputs": [
    {
     "name": "stdout",
     "output_type": "stream",
     "text": [
      "Found 6 items\r\n",
      "drwxr-xr-x   - student supergroup          0 2019-09-01 19:27 /categories\r\n",
      "drwxr-xr-x   - root    supergroup          0 2019-05-30 21:00 /regions\r\n",
      "drwxr-xr-x   - root    supergroup          0 2019-05-30 21:01 /territories\r\n",
      "drwxr-xr-x   - root    supergroup          0 2019-05-30 19:58 /test\r\n",
      "drwx-wx-wx   - root    supergroup          0 2019-05-30 20:29 /tmp\r\n",
      "drwxr-xr-x   - root    supergroup          0 2019-05-30 20:36 /user\r\n"
     ]
    }
   ],
   "source": [
    "! hadoop fs -ls /"
   ]
  },
  {
   "cell_type": "code",
   "execution_count": 2,
   "metadata": {},
   "outputs": [],
   "source": [
    "! hadoop fs -put /home/student/ROI/datasets/northwind/CSV/categories /"
   ]
  },
  {
   "cell_type": "code",
   "execution_count": 4,
   "metadata": {},
   "outputs": [
    {
     "name": "stdout",
     "output_type": "stream",
     "text": [
      "Found 6 items\n",
      "drwxr-xr-x   - student supergroup          0 2019-09-01 19:27 /categories\n",
      "drwxr-xr-x   - root    supergroup          0 2019-05-30 21:00 /regions\n",
      "drwxr-xr-x   - root    supergroup          0 2019-05-30 21:01 /territories\n",
      "drwxr-xr-x   - root    supergroup          0 2019-05-30 19:58 /test\n",
      "drwx-wx-wx   - root    supergroup          0 2019-05-30 20:29 /tmp\n",
      "drwxr-xr-x   - root    supergroup          0 2019-05-30 20:36 /user\n",
      "Found 1 items\n",
      "-rw-r--r--   3 student supergroup        337 2019-09-01 19:27 /categories/categories.csv\n"
     ]
    }
   ],
   "source": [
    "! hadoop fs -ls /\n",
    "! hadoop fs -ls /categories"
   ]
  },
  {
   "cell_type": "code",
   "execution_count": null,
   "metadata": {},
   "outputs": [],
   "source": []
  }
 ],
 "metadata": {
  "kernelspec": {
   "display_name": "Python 3",
   "language": "python",
   "name": "python3"
  },
  "language_info": {
   "codemirror_mode": {
    "name": "ipython",
    "version": 3
   },
   "file_extension": ".py",
   "mimetype": "text/x-python",
   "name": "python",
   "nbconvert_exporter": "python",
   "pygments_lexer": "ipython3",
   "version": "3.7.3"
  }
 },
 "nbformat": 4,
 "nbformat_minor": 2
}
