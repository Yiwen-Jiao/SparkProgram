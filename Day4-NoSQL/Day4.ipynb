{
 "cells": [
  {
   "cell_type": "code",
   "execution_count": null,
   "metadata": {},
   "outputs": [],
   "source": [
    "docker network create network1\n",
    "docker run --name cassandra1 --network network1 -d cassandra\n",
    "docker run -it --network network1 --rm cassandra cqlsh cassandra1\n",
    "docker inspect -f '{{range .NetworkSettings.Networks}}{{.IPAddress}}{{end}}' cassandra1\n"
   ]
  },
  {
   "cell_type": "code",
   "execution_count": 1,
   "metadata": {},
   "outputs": [
    {
     "name": "stdout",
     "output_type": "stream",
     "text": [
      "172.18.0.2\n",
      "[Row(id=1, firstname='Joseph', lastname='Smith', emails=SortedSet(['joe.smith@abc.net', 'joes@xyz.com'])), Row(id=2, firstname='Mike', lastname='Jones', emails=SortedSet(['mike.jones@def.net', 'mike1234@gmail.com', 'mikej@xyz.com']))]\n"
     ]
    }
   ],
   "source": [
    "import os\n",
    "CASSANDRA_IP=os.getenv('CASSANDRA1')\n",
    "print(CASSANDRA_IP)\n",
    "\n",
    "if CASSANDRA_IP is None:\n",
    "    CASSANDRA_IP = '172.18.0.2'\n",
    "\n",
    "from cassandra.cluster import Cluster\n",
    "cluster = Cluster([CASSANDRA_IP])\n",
    "session = cluster.connect()\n",
    "session.execute('DROP KEYSPACE IF EXISTS classroom')\n",
    "session.execute(\"CREATE KEYSPACE classroom WITH REPLICATION={'class':'SimpleStrategy', 'replication_factor':'1'}\")\n",
    "session = cluster.connect('classroom')\n",
    "session.execute(\"create table student(id int PRIMARY KEY, firstname text, lastname text, emails set<text>)\")\n",
    "session.execute(\"insert into student (id, firstname, lastname, emails) values (1, 'Joe', 'Smith', {'joes@xyz.com', 'joe.smith@abc.net'})\")\n",
    "session.execute(\"update student set firstname = 'Joseph' where id = 1\")\n",
    "session.execute(\"insert into student (id, firstname, lastname, emails) values (2, 'Mike', 'Jones', {'mikej@xyz.com', 'mike.jones@def.net', 'mike1234@gmail.com'})\")\n",
    "rows = session.execute('SELECT id, firstname, lastname, emails from student')\n",
    "print(list(rows))\n"
   ]
  },
  {
   "cell_type": "markdown",
   "metadata": {},
   "source": [
    "### In order for spark to talk to cassandra it needs to know the IP address to initialize the spark context with and it also needs the spark-cassandra-connector.\n",
    "\n",
    "### Mongo will be similar and we need to initial the spark context with pointers to the mongo uri and also include the mongo-spark-connector\n",
    "\n",
    "### Additionally, whoever configures the cluster may need to make sure additional jars are installed in $SPARK_HOME/jars\n",
    "\n",
    "Don't run the following, it is just included here to have a look at."
   ]
  },
  {
   "cell_type": "code",
   "execution_count": null,
   "metadata": {},
   "outputs": [],
   "source": [
    "os.environ['PYSPARK_SUBMIT_ARGS'] = '--packages org.mongodb.spark:mongo-spark-connector_2.11:2.4.1,com.datastax.spark:spark-cassandra-connector_2.11:2.4.0 pyspark-shell'\n",
    "\n",
    "def initspark(appname = \"Test\", servername = \"local\", cassandra=\"127.0.0.1\", mongo=\"mongodb://127.0.0.1/classroom\"):\n",
    "    print ('initializing pyspark')\n",
    "    conf = SparkConf().set(\"spark.cassandra.connection.host\", cassandra).setAppName(appname).setMaster(servername)\n",
    "    sc = SparkContext(conf=conf)\n",
    "    spark = SparkSession.builder.appName(appname) \\\n",
    "    .config(\"spark.mongodb.input.uri\", mongo) \\\n",
    "    .config(\"spark.mongodb.output.uri\", mongo) \\\n",
    "    .enableHiveSupport().getOrCreate()\n",
    "    sc.setLogLevel(\"WARN\")\n",
    "    print ('pyspark initialized')\n",
    "    return sc, spark, conf\n"
   ]
  },
  {
   "cell_type": "markdown",
   "metadata": {},
   "source": [
    "### Let's initialize as usual but pass in the IP address of the cassandra cluster this time"
   ]
  },
  {
   "cell_type": "code",
   "execution_count": 2,
   "metadata": {},
   "outputs": [
    {
     "name": "stdout",
     "output_type": "stream",
     "text": [
      "initializing pyspark\n",
      "pyspark initialized\n"
     ]
    }
   ],
   "source": [
    "import sys\n",
    "sys.path.append('/class')\n",
    "from initspark import *\n",
    "sc, spark, conf = initspark(cassandra=CASSANDRA_IP)\n"
   ]
  },
  {
   "cell_type": "markdown",
   "metadata": {},
   "source": [
    "### Using the spark-cassandra-connector we can read from a cassandra table in a similar way to how we read from a MySQL table"
   ]
  },
  {
   "cell_type": "code",
   "execution_count": 3,
   "metadata": {},
   "outputs": [
    {
     "data": {
      "text/html": [
       "<div>\n",
       "<style scoped>\n",
       "    .dataframe tbody tr th:only-of-type {\n",
       "        vertical-align: middle;\n",
       "    }\n",
       "\n",
       "    .dataframe tbody tr th {\n",
       "        vertical-align: top;\n",
       "    }\n",
       "\n",
       "    .dataframe thead th {\n",
       "        text-align: right;\n",
       "    }\n",
       "</style>\n",
       "<table border=\"1\" class=\"dataframe\">\n",
       "  <thead>\n",
       "    <tr style=\"text-align: right;\">\n",
       "      <th></th>\n",
       "      <th>id</th>\n",
       "      <th>emails</th>\n",
       "      <th>firstname</th>\n",
       "      <th>lastname</th>\n",
       "    </tr>\n",
       "  </thead>\n",
       "  <tbody>\n",
       "    <tr>\n",
       "      <th>0</th>\n",
       "      <td>1</td>\n",
       "      <td>[joe.smith@abc.net, joes@xyz.com]</td>\n",
       "      <td>Joseph</td>\n",
       "      <td>Smith</td>\n",
       "    </tr>\n",
       "    <tr>\n",
       "      <th>1</th>\n",
       "      <td>2</td>\n",
       "      <td>[mike.jones@def.net, mike1234@gmail.com, mikej...</td>\n",
       "      <td>Mike</td>\n",
       "      <td>Jones</td>\n",
       "    </tr>\n",
       "  </tbody>\n",
       "</table>\n",
       "</div>"
      ],
      "text/plain": [
       "   id                                             emails firstname lastname\n",
       "0   1                  [joe.smith@abc.net, joes@xyz.com]    Joseph    Smith\n",
       "1   2  [mike.jones@def.net, mike1234@gmail.com, mikej...      Mike    Jones"
      ]
     },
     "metadata": {},
     "output_type": "display_data"
    },
    {
     "name": "stdout",
     "output_type": "stream",
     "text": [
      "[Row(id=1, emails=['joe.smith@abc.net', 'joes@xyz.com'], firstname='Joseph', lastname='Smith'), Row(id=2, emails=['mike.jones@def.net', 'mike1234@gmail.com', 'mikej@xyz.com'], firstname='Mike', lastname='Jones')]\n"
     ]
    }
   ],
   "source": [
    "people = spark.read.format(\"org.apache.spark.sql.cassandra\").options(table=\"student\", keyspace=\"classroom\").load()\n",
    "display(people)\n",
    "print(people.collect())\n"
   ]
  },
  {
   "cell_type": "code",
   "execution_count": null,
   "metadata": {},
   "outputs": [],
   "source": []
  },
  {
   "cell_type": "code",
   "execution_count": 4,
   "metadata": {},
   "outputs": [],
   "source": [
    "# Append the results of a DataFrame into a Cassandra table\n",
    "x = sc.parallelize([(3, 'Mary', 'Johnson', ['Mary1@gmail.com', 'Mary2@yahoo.com'])])\n",
    "x1 = spark.createDataFrame(x, schema = ['id', 'firstname', 'lastname', 'emails'])\n",
    "x1.write.format(\"org.apache.spark.sql.cassandra\").options(table=\"student\", keyspace=\"classroom\").mode(\"append\").save()\n",
    "\n"
   ]
  },
  {
   "cell_type": "code",
   "execution_count": 5,
   "metadata": {},
   "outputs": [
    {
     "data": {
      "text/html": [
       "<div>\n",
       "<style scoped>\n",
       "    .dataframe tbody tr th:only-of-type {\n",
       "        vertical-align: middle;\n",
       "    }\n",
       "\n",
       "    .dataframe tbody tr th {\n",
       "        vertical-align: top;\n",
       "    }\n",
       "\n",
       "    .dataframe thead th {\n",
       "        text-align: right;\n",
       "    }\n",
       "</style>\n",
       "<table border=\"1\" class=\"dataframe\">\n",
       "  <thead>\n",
       "    <tr style=\"text-align: right;\">\n",
       "      <th></th>\n",
       "      <th>id</th>\n",
       "      <th>emails</th>\n",
       "      <th>firstname</th>\n",
       "      <th>lastname</th>\n",
       "    </tr>\n",
       "  </thead>\n",
       "  <tbody>\n",
       "    <tr>\n",
       "      <th>0</th>\n",
       "      <td>1</td>\n",
       "      <td>[joe.smith@abc.net, joes@xyz.com]</td>\n",
       "      <td>Joseph</td>\n",
       "      <td>Smith</td>\n",
       "    </tr>\n",
       "    <tr>\n",
       "      <th>1</th>\n",
       "      <td>2</td>\n",
       "      <td>[mike.jones@def.net, mike1234@gmail.com, mikej...</td>\n",
       "      <td>Mike</td>\n",
       "      <td>Jones</td>\n",
       "    </tr>\n",
       "    <tr>\n",
       "      <th>2</th>\n",
       "      <td>3</td>\n",
       "      <td>[Mary1@gmail.com, Mary2@yahoo.com]</td>\n",
       "      <td>Mary</td>\n",
       "      <td>Johnson</td>\n",
       "    </tr>\n",
       "  </tbody>\n",
       "</table>\n",
       "</div>"
      ],
      "text/plain": [
       "   id                                             emails firstname lastname\n",
       "0   1                  [joe.smith@abc.net, joes@xyz.com]    Joseph    Smith\n",
       "1   2  [mike.jones@def.net, mike1234@gmail.com, mikej...      Mike    Jones\n",
       "2   3                 [Mary1@gmail.com, Mary2@yahoo.com]      Mary  Johnson"
      ]
     },
     "metadata": {},
     "output_type": "display_data"
    }
   ],
   "source": [
    "people = spark.read.format(\"org.apache.spark.sql.cassandra\").options(table=\"student\", keyspace=\"classroom\").load()\n",
    "display(people)\n",
    "\n"
   ]
  },
  {
   "cell_type": "code",
   "execution_count": 6,
   "metadata": {},
   "outputs": [
    {
     "data": {
      "text/html": [
       "<div>\n",
       "<style scoped>\n",
       "    .dataframe tbody tr th:only-of-type {\n",
       "        vertical-align: middle;\n",
       "    }\n",
       "\n",
       "    .dataframe tbody tr th {\n",
       "        vertical-align: top;\n",
       "    }\n",
       "\n",
       "    .dataframe thead th {\n",
       "        text-align: right;\n",
       "    }\n",
       "</style>\n",
       "<table border=\"1\" class=\"dataframe\">\n",
       "  <thead>\n",
       "    <tr style=\"text-align: right;\">\n",
       "      <th></th>\n",
       "      <th>id</th>\n",
       "      <th>firstname</th>\n",
       "      <th>lastname</th>\n",
       "      <th>email</th>\n",
       "    </tr>\n",
       "  </thead>\n",
       "  <tbody>\n",
       "    <tr>\n",
       "      <th>0</th>\n",
       "      <td>1</td>\n",
       "      <td>Joseph</td>\n",
       "      <td>Smith</td>\n",
       "      <td>joe.smith@abc.net</td>\n",
       "    </tr>\n",
       "    <tr>\n",
       "      <th>1</th>\n",
       "      <td>1</td>\n",
       "      <td>Joseph</td>\n",
       "      <td>Smith</td>\n",
       "      <td>joes@xyz.com</td>\n",
       "    </tr>\n",
       "    <tr>\n",
       "      <th>2</th>\n",
       "      <td>2</td>\n",
       "      <td>Mike</td>\n",
       "      <td>Jones</td>\n",
       "      <td>mike.jones@def.net</td>\n",
       "    </tr>\n",
       "    <tr>\n",
       "      <th>3</th>\n",
       "      <td>2</td>\n",
       "      <td>Mike</td>\n",
       "      <td>Jones</td>\n",
       "      <td>mike1234@gmail.com</td>\n",
       "    </tr>\n",
       "    <tr>\n",
       "      <th>4</th>\n",
       "      <td>2</td>\n",
       "      <td>Mike</td>\n",
       "      <td>Jones</td>\n",
       "      <td>mikej@xyz.com</td>\n",
       "    </tr>\n",
       "    <tr>\n",
       "      <th>5</th>\n",
       "      <td>3</td>\n",
       "      <td>Mary</td>\n",
       "      <td>Johnson</td>\n",
       "      <td>Mary1@gmail.com</td>\n",
       "    </tr>\n",
       "    <tr>\n",
       "      <th>6</th>\n",
       "      <td>3</td>\n",
       "      <td>Mary</td>\n",
       "      <td>Johnson</td>\n",
       "      <td>Mary2@yahoo.com</td>\n",
       "    </tr>\n",
       "  </tbody>\n",
       "</table>\n",
       "</div>"
      ],
      "text/plain": [
       "   id firstname lastname               email\n",
       "0   1    Joseph    Smith   joe.smith@abc.net\n",
       "1   1    Joseph    Smith        joes@xyz.com\n",
       "2   2      Mike    Jones  mike.jones@def.net\n",
       "3   2      Mike    Jones  mike1234@gmail.com\n",
       "4   2      Mike    Jones       mikej@xyz.com\n",
       "5   3      Mary  Johnson     Mary1@gmail.com\n",
       "6   3      Mary  Johnson     Mary2@yahoo.com"
      ]
     },
     "metadata": {},
     "output_type": "display_data"
    }
   ],
   "source": [
    "people.createOrReplaceTempView('people')\n",
    "people2 = spark.sql('select id, firstname, lastname, email from people LATERAL VIEW EXPLODE(emails) EXPLODED_TABLE AS email')\n",
    "display(people2)\n",
    "\n"
   ]
  },
  {
   "cell_type": "code",
   "execution_count": 7,
   "metadata": {},
   "outputs": [
    {
     "data": {
      "text/html": [
       "<div>\n",
       "<style scoped>\n",
       "    .dataframe tbody tr th:only-of-type {\n",
       "        vertical-align: middle;\n",
       "    }\n",
       "\n",
       "    .dataframe tbody tr th {\n",
       "        vertical-align: top;\n",
       "    }\n",
       "\n",
       "    .dataframe thead th {\n",
       "        text-align: right;\n",
       "    }\n",
       "</style>\n",
       "<table border=\"1\" class=\"dataframe\">\n",
       "  <thead>\n",
       "    <tr style=\"text-align: right;\">\n",
       "      <th></th>\n",
       "      <th>id</th>\n",
       "      <th>firstname</th>\n",
       "      <th>lastname</th>\n",
       "      <th>email</th>\n",
       "    </tr>\n",
       "  </thead>\n",
       "  <tbody>\n",
       "    <tr>\n",
       "      <th>0</th>\n",
       "      <td>1</td>\n",
       "      <td>Joseph</td>\n",
       "      <td>Smith</td>\n",
       "      <td>joes@xyz.com</td>\n",
       "    </tr>\n",
       "    <tr>\n",
       "      <th>1</th>\n",
       "      <td>2</td>\n",
       "      <td>Mike</td>\n",
       "      <td>Jones</td>\n",
       "      <td>mikej@xyz.com</td>\n",
       "    </tr>\n",
       "    <tr>\n",
       "      <th>2</th>\n",
       "      <td>2</td>\n",
       "      <td>Mike</td>\n",
       "      <td>Jones</td>\n",
       "      <td>mike1234@gmail.com</td>\n",
       "    </tr>\n",
       "    <tr>\n",
       "      <th>3</th>\n",
       "      <td>3</td>\n",
       "      <td>Mary</td>\n",
       "      <td>Johnson</td>\n",
       "      <td>Mary1@gmail.com</td>\n",
       "    </tr>\n",
       "    <tr>\n",
       "      <th>4</th>\n",
       "      <td>3</td>\n",
       "      <td>Mary</td>\n",
       "      <td>Johnson</td>\n",
       "      <td>Mary2@yahoo.com</td>\n",
       "    </tr>\n",
       "  </tbody>\n",
       "</table>\n",
       "</div>"
      ],
      "text/plain": [
       "   id firstname lastname               email\n",
       "0   1    Joseph    Smith        joes@xyz.com\n",
       "1   2      Mike    Jones       mikej@xyz.com\n",
       "2   2      Mike    Jones  mike1234@gmail.com\n",
       "3   3      Mary  Johnson     Mary1@gmail.com\n",
       "4   3      Mary  Johnson     Mary2@yahoo.com"
      ]
     },
     "metadata": {},
     "output_type": "display_data"
    }
   ],
   "source": [
    "people3 = people2.where(\"email like '%.com'\").orderBy(\"id\")\n",
    "display(people3)"
   ]
  },
  {
   "cell_type": "code",
   "execution_count": null,
   "metadata": {},
   "outputs": [],
   "source": []
  },
  {
   "cell_type": "code",
   "execution_count": null,
   "metadata": {},
   "outputs": [],
   "source": [
    "import pymongo\n",
    "client = pymongo.MongoClient(\"mongodb://127.0.0.1:27017/\")\n",
    "classroom = client[\"classroom\"]\n",
    "if 'classroom' in (x['name'] for x in client.list_databases()):\n",
    "    client.drop_database('classroom')\n",
    "\n",
    "people = classroom['people']\n",
    "name = {\"firstname\" : \"Adam\", \"personid\":4}\n",
    "x = people.insert_one(name)\n",
    "\n",
    "names = [{\"firstname\" : \"Betty\", \"personid\":5}\n",
    "         ,{\"firstname\" : \"Charlie\", \"personid\":6}]\n",
    "x = people.insert_many(names)\n",
    "\n",
    "x = people.find()\n",
    "print ('*' * 80)\n",
    "print ('from mongo directly')\n",
    "print (list(x))\n",
    "print ('*' * 80)\n",
    "\n"
   ]
  },
  {
   "cell_type": "code",
   "execution_count": null,
   "metadata": {},
   "outputs": [],
   "source": [
    "from pyspark import SparkContext\n",
    "from pyspark.sql import SparkSession\n",
    "\n",
    "sc = SparkContext()\n",
    "spark = SparkSession.builder.appName(\"myApp\")\\\n",
    "    .config(\"spark.mongodb.input.uri\", \"mongodb://127.0.0.1/classroom\") \\\n",
    "    .config(\"spark.mongodb.output.uri\", \"mongodb://127.0.0.1/classroom\") \\\n",
    "    .getOrCreate()\n"
   ]
  },
  {
   "cell_type": "code",
   "execution_count": null,
   "metadata": {},
   "outputs": [],
   "source": [
    "df = spark.read.format(\"mongo\").option(\"uri\", \"mongodb://127.0.0.1/classroom.people\").load()\n",
    "df.show()\n"
   ]
  },
  {
   "cell_type": "code",
   "execution_count": null,
   "metadata": {},
   "outputs": [],
   "source": [
    "x = sc.parallelize([(7, 'David')])\n",
    "x1 = spark.createDataFrame(x, schema = ['personid', 'firstname'])\n",
    "x1.write.format(\"mongo\").options(collection=\"people\", database=\"classroom\").mode(\"append\").save()"
   ]
  },
  {
   "cell_type": "code",
   "execution_count": null,
   "metadata": {},
   "outputs": [],
   "source": [
    "df = spark.read.format(\"mongo\").option(\"uri\", \"mongodb://127.0.0.1/classroom.people\").load()\n",
    "df.show()\n"
   ]
  },
  {
   "cell_type": "code",
   "execution_count": null,
   "metadata": {},
   "outputs": [],
   "source": [
    "df.createOrReplaceTempView('people')\n",
    "spark.sql('select * from people').show()\n"
   ]
  }
 ],
 "metadata": {
  "kernelspec": {
   "display_name": "Python 3",
   "language": "python",
   "name": "python3"
  },
  "language_info": {
   "codemirror_mode": {
    "name": "ipython",
    "version": 3
   },
   "file_extension": ".py",
   "mimetype": "text/x-python",
   "name": "python",
   "nbconvert_exporter": "python",
   "pygments_lexer": "ipython3",
   "version": "3.7.3"
  }
 },
 "nbformat": 4,
 "nbformat_minor": 2
}
