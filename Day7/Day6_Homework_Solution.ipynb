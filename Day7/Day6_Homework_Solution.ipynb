{
  "nbformat": 4,
  "nbformat_minor": 0,
  "metadata": {
    "kernelspec": {
      "display_name": "Python 3",
      "language": "python",
      "name": "python3"
    },
    "language_info": {
      "codemirror_mode": {
        "name": "ipython",
        "version": 3
      },
      "file_extension": ".py",
      "mimetype": "text/x-python",
      "name": "python",
      "nbconvert_exporter": "python",
      "pygments_lexer": "ipython3",
      "version": "3.7.3"
    },
    "colab": {
      "name": "Day6_Homework_Solution.ipynb",
      "provenance": [],
      "include_colab_link": true
    }
  },
  "cells": [
    {
      "cell_type": "markdown",
      "metadata": {
        "id": "view-in-github",
        "colab_type": "text"
      },
      "source": [
        "<a href=\"https://colab.research.google.com/github/roitraining/SparkProgram/blob/Day6/Day6/Day6_Homework_Solution.ipynb\" target=\"_parent\"><img src=\"https://colab.research.google.com/assets/colab-badge.svg\" alt=\"Open In Colab\"/></a>"
      ]
    },
    {
      "cell_type": "code",
      "metadata": {
        "id": "-hT4KnexZ2t7",
        "colab_type": "code",
        "colab": {}
      },
      "source": [
        "import sys\n",
        "\n",
        "rootpath = '/home/student/ROI/SparkProgram/'\n",
        "datapath = f'{rootpath}datasets/'\n",
        "sys.path.append(rootpath)\n",
        "import pyspark_helpers as pyh\n",
        "from pyspark_helpers import *\n",
        "sc, spark, conf = initspark()\n",
        "\n",
        "import pandas as pd\n",
        "import matplotlib as mp\n",
        "import numpy\n",
        "from matplotlib import pyplot as plt\n"
      ],
      "execution_count": 0,
      "outputs": []
    },
    {
      "cell_type": "markdown",
      "metadata": {
        "id": "yux0403qZ2uD",
        "colab_type": "text"
      },
      "source": [
        "### Using the bank dataset, see if you can find the natural number of clusters."
      ]
    },
    {
      "cell_type": "code",
      "metadata": {
        "id": "Zrchr33cZ2uG",
        "colab_type": "code",
        "colab": {}
      },
      "source": [
        "filename = 'bank.csv'\n",
        "df = spark.read.csv(f'{datapath}/finance/{filename}', header = True, inferSchema = True)\n",
        "display(df)\n",
        "df.printSchema()\n",
        "dfRaw = df"
      ],
      "execution_count": 0,
      "outputs": []
    },
    {
      "cell_type": "markdown",
      "metadata": {
        "id": "faw7axNLZ2uK",
        "colab_type": "text"
      },
      "source": [
        "### Suggested features are:\n",
        "numeric: 'age', 'balance','duration','pdays','previous'\n",
        "categorical_features: 'job','marital','education',      'housing','loan','campaign','deposit'\n",
        "target_label: None\n",
        "\n",
        "#### Hint:\n",
        "Use helper function pyh.MakeMLDataFrame"
      ]
    },
    {
      "cell_type": "code",
      "metadata": {
        "id": "ukitNMgSZ2uL",
        "colab_type": "code",
        "colab": {}
      },
      "source": [
        "numeric_features = ['age', 'balance','duration','pdays','previous']\n",
        "categorical_features = ['job','marital','education','housing','loan','campaign','deposit']\n",
        "target_label = None\n",
        "\n",
        "dfML = pyh.MakeMLDataFrame(df, categorical_features, numeric_features, target_label, False)\n",
        "display(dfML)\n",
        "dfML.printSchema()\n"
      ],
      "execution_count": 0,
      "outputs": []
    },
    {
      "cell_type": "markdown",
      "metadata": {
        "id": "qkQkCwHHZ2uS",
        "colab_type": "text"
      },
      "source": [
        "### Make an elbow plot.\n",
        "**Hint:** \n",
        "\n",
        "Use the helper function pyh.plot_elbow"
      ]
    },
    {
      "cell_type": "code",
      "metadata": {
        "id": "9lCDn3e3Z2uV",
        "colab_type": "code",
        "colab": {}
      },
      "source": [
        "%matplotlib inline\n",
        "pyh.plot_elbow(dfML.select('features'))"
      ],
      "execution_count": 0,
      "outputs": []
    },
    {
      "cell_type": "markdown",
      "metadata": {
        "id": "fOvkG7e-Z2ua",
        "colab_type": "text"
      },
      "source": [
        "### Do a cluster analysis with the suggested number of clusters."
      ]
    },
    {
      "cell_type": "code",
      "metadata": {
        "id": "xAP6MyV_Z2uc",
        "colab_type": "code",
        "colab": {}
      },
      "source": [
        "from pyspark.ml.clustering import KMeans\n",
        "from pyspark.ml.evaluation import ClusteringEvaluator\n",
        "CLUSTERS = 8\n",
        "kmeans = KMeans().setK(CLUSTERS).setSeed(1)\n",
        "model = kmeans.fit(dfML.select('features'))\n",
        "predictions = model.transform(dfML)\n",
        "centroids = model.clusterCenters()\n",
        "print(centroids)\n",
        "display(predictions)"
      ],
      "execution_count": 0,
      "outputs": []
    },
    {
      "cell_type": "markdown",
      "metadata": {
        "id": "VbA2A2RlZ2um",
        "colab_type": "text"
      },
      "source": [
        "### See if you can predict someone's age from the dataset.\n",
        "suggested numeric features: 'balance','duration','pdays','previous'\n",
        "categorical features: 'job','marital','education','housing',\n",
        "'loan','campaign','deposit'\n",
        "target: 'age'"
      ]
    },
    {
      "cell_type": "code",
      "metadata": {
        "id": "vfaOcoVgZ2uo",
        "colab_type": "code",
        "colab": {}
      },
      "source": [
        "# import importlib\n",
        "# importlib.reload(pyh)\n",
        "\n",
        "numeric_features = ['balance','duration','pdays','previous']\n",
        "categorical_features = ['job','marital','education','housing','loan','campaign','deposit']\n",
        "target_label = 'age'\n",
        "\n",
        "dfML = pyh.MakeMLDataFrame(dfRaw, categorical_features, numeric_features, target_label, False)\n",
        "display(dfML)\n",
        "dfML.printSchema()\n"
      ],
      "execution_count": 0,
      "outputs": []
    },
    {
      "cell_type": "markdown",
      "metadata": {
        "id": "bE2xAuwNZ2u1",
        "colab_type": "text"
      },
      "source": [
        "### Split the dataset."
      ]
    },
    {
      "cell_type": "code",
      "metadata": {
        "id": "9CZdBGyLZ2u4",
        "colab_type": "code",
        "colab": {}
      },
      "source": [
        "train, test = dfML.randomSplit([.7,.3], seed = 1000)\n",
        "print (f'Training set row count {train.count()}')\n",
        "print (f'Testing set row count {test.count()}')\n"
      ],
      "execution_count": 0,
      "outputs": []
    },
    {
      "cell_type": "markdown",
      "metadata": {
        "id": "trQwMW3gZ2u-",
        "colab_type": "text"
      },
      "source": [
        "### Try linear regression."
      ]
    },
    {
      "cell_type": "code",
      "metadata": {
        "id": "SfNZYB4_Z2vA",
        "colab_type": "code",
        "colab": {}
      },
      "source": [
        "from pyspark.ml.regression import LinearRegression\n",
        "lr = LinearRegression(featuresCol = 'features', labelCol='target', maxIter=10, regParam=0.3, elasticNetParam=0.8)\n",
        "lrModel = lr.fit(train)\n",
        "print(\"Coefficients: \" + str(lrModel.coefficients))\n",
        "print(\"Intercept: \" + str(lrModel.intercept))\n",
        "\n",
        "print(\"Root Mean Squared Error: {}\\nR Squared (R2) {}\".format(lrModel.summary.rootMeanSquaredError, lrModel.summary.r2))\n"
      ],
      "execution_count": 0,
      "outputs": []
    },
    {
      "cell_type": "markdown",
      "metadata": {
        "id": "ObJKNrJGZ2vF",
        "colab_type": "text"
      },
      "source": [
        "### See how well it did some predictions."
      ]
    },
    {
      "cell_type": "code",
      "metadata": {
        "id": "TDl-kRGwZ2vG",
        "colab_type": "code",
        "colab": {}
      },
      "source": [
        "lrPredictions = lrModel.transform(test)\n",
        "display(lrPredictions.select(\"prediction\",\"target\",\"features\"), 30)\n",
        "from pyspark.ml.evaluation import RegressionEvaluator\n",
        "lrEvaluator = RegressionEvaluator(predictionCol=\"prediction\", labelCol=\"target\",metricName=\"r2\")\n",
        "testResult = lrModel.evaluate(test)\n",
        "print(\"Root Mean Squared Error on Test set: {}\".format(testResult.rootMeanSquaredError))\n"
      ],
      "execution_count": 0,
      "outputs": []
    },
    {
      "cell_type": "code",
      "metadata": {
        "id": "Uv61OeJKZ2vK",
        "colab_type": "code",
        "colab": {}
      },
      "source": [
        ""
      ],
      "execution_count": 0,
      "outputs": []
    }
  ]
}