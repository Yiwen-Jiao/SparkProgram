{
  "nbformat": 4,
  "nbformat_minor": 0,
  "metadata": {
    "kernelspec": {
      "display_name": "Python 3",
      "language": "python",
      "name": "python3"
    },
    "language_info": {
      "codemirror_mode": {
        "name": "ipython",
        "version": 3
      },
      "file_extension": ".py",
      "mimetype": "text/x-python",
      "name": "python",
      "nbconvert_exporter": "python",
      "pygments_lexer": "ipython3",
      "version": "3.7.3"
    },
    "colab": {
      "name": "Day6_Homework.ipynb",
      "provenance": [],
      "include_colab_link": true
    }
  },
  "cells": [
    {
      "cell_type": "markdown",
      "metadata": {
        "id": "view-in-github",
        "colab_type": "text"
      },
      "source": [
        "<a href=\"https://colab.research.google.com/github/roitraining/SparkProgram/blob/Day6/Day6/Day6_Homework.ipynb\" target=\"_parent\"><img src=\"https://colab.research.google.com/assets/colab-badge.svg\" alt=\"Open In Colab\"/></a>"
      ]
    },
    {
      "cell_type": "code",
      "metadata": {
        "id": "1stIWUakZP8I",
        "colab_type": "code",
        "colab": {}
      },
      "source": [
        "import sys\n",
        "\n",
        "rootpath = '/home/student/ROI/SparkProgram/'\n",
        "datapath = f'{rootpath}datasets/'\n",
        "sys.path.append(rootpath)\n",
        "import pyspark_helpers as pyh\n",
        "from pyspark_helpers import *\n",
        "sc, spark, conf = initspark()\n",
        "\n",
        "import pandas as pd\n",
        "import matplotlib as mp\n",
        "import numpy\n",
        "from matplotlib import pyplot as plt\n"
      ],
      "execution_count": 0,
      "outputs": []
    },
    {
      "cell_type": "markdown",
      "metadata": {
        "id": "_xUapyjdZP8O",
        "colab_type": "text"
      },
      "source": [
        "### Using the bank dataset, see if you can find the natural number of clusters."
      ]
    },
    {
      "cell_type": "code",
      "metadata": {
        "id": "EM13DR2BZP8P",
        "colab_type": "code",
        "colab": {}
      },
      "source": [
        "filename = 'bank.csv'\n",
        "df = spark.read.csv(f'{datapath}/finance/{filename}', header = True, inferSchema = True)\n",
        "display(df)\n",
        "df.printSchema()\n",
        "dfRaw = df"
      ],
      "execution_count": 0,
      "outputs": []
    },
    {
      "cell_type": "markdown",
      "metadata": {
        "id": "zxcKVo8wZP8W",
        "colab_type": "text"
      },
      "source": [
        "### Suggested features are:\n",
        "numeric: 'age', 'balance','duration','pdays','previous'\n",
        "categorical_features: 'job','marital','education',      'housing','loan','campaign','deposit'\n",
        "target_label: None\n",
        "\n",
        "#### Hint:\n",
        "Use helper function pyh.MakeMLDataFrame"
      ]
    },
    {
      "cell_type": "code",
      "metadata": {
        "id": "cC9zrPVMZP8X",
        "colab_type": "code",
        "colab": {}
      },
      "source": [
        "numeric_features = ['age', 'balance','duration','pdays','previous']\n",
        "categorical_features = ['job','marital','education','housing','loan','campaign','deposit']\n",
        "target_label = None\n",
        "\n"
      ],
      "execution_count": 0,
      "outputs": []
    },
    {
      "cell_type": "markdown",
      "metadata": {
        "id": "8OqeYzLFZP8c",
        "colab_type": "text"
      },
      "source": [
        "### Make an elbow plot.\n",
        "\n",
        "**Hint:** \n",
        "\n",
        "Use the helper function pyh.plot_elbow"
      ]
    },
    {
      "cell_type": "code",
      "metadata": {
        "id": "seqYkclUZP8d",
        "colab_type": "code",
        "colab": {}
      },
      "source": [
        "%matplotlib inline\n"
      ],
      "execution_count": 0,
      "outputs": []
    },
    {
      "cell_type": "markdown",
      "metadata": {
        "id": "j36jekcgZP8i",
        "colab_type": "text"
      },
      "source": [
        "### Do a cluster analysis with the suggested number of clusters."
      ]
    },
    {
      "cell_type": "code",
      "metadata": {
        "id": "SJFzrQhmZP8o",
        "colab_type": "code",
        "colab": {}
      },
      "source": [
        "from pyspark.ml.clustering import KMeans\n",
        "from pyspark.ml.evaluation import ClusteringEvaluator\n"
      ],
      "execution_count": 0,
      "outputs": []
    },
    {
      "cell_type": "markdown",
      "metadata": {
        "id": "9fhbRX9SZP88",
        "colab_type": "text"
      },
      "source": [
        "### See if you can predict someone's age from the dataset.\n",
        "suggested numeric features: 'balance','duration','pdays','previous'\n",
        "categorical features: 'job','marital','education','housing',\n",
        "'loan','campaign','deposit'\n",
        "target: 'age'"
      ]
    },
    {
      "cell_type": "code",
      "metadata": {
        "id": "XWFYH-TeZP8_",
        "colab_type": "code",
        "colab": {}
      },
      "source": [
        "numeric_features = ['balance','duration','pdays','previous']\n",
        "categorical_features = ['job','marital','education','housing','loan','campaign','deposit']\n",
        "target_label = 'age'\n",
        "\n"
      ],
      "execution_count": 0,
      "outputs": []
    },
    {
      "cell_type": "markdown",
      "metadata": {
        "id": "tVoOoao7ZP9F",
        "colab_type": "text"
      },
      "source": [
        "### Split the dataset."
      ]
    },
    {
      "cell_type": "code",
      "metadata": {
        "id": "cpJv5eD9ZP9G",
        "colab_type": "code",
        "colab": {}
      },
      "source": [
        ""
      ],
      "execution_count": 0,
      "outputs": []
    },
    {
      "cell_type": "markdown",
      "metadata": {
        "id": "iIlq___AZP9L",
        "colab_type": "text"
      },
      "source": [
        "### Try linear regression."
      ]
    },
    {
      "cell_type": "code",
      "metadata": {
        "id": "NlwzUOEdZP9M",
        "colab_type": "code",
        "colab": {}
      },
      "source": [
        "from pyspark.ml.regression import LinearRegression\n"
      ],
      "execution_count": 0,
      "outputs": []
    },
    {
      "cell_type": "markdown",
      "metadata": {
        "id": "lBlwdUAUZP9Q",
        "colab_type": "text"
      },
      "source": [
        "### See how well it did some predictions."
      ]
    },
    {
      "cell_type": "code",
      "metadata": {
        "id": "_Uol5BpWZP9R",
        "colab_type": "code",
        "colab": {}
      },
      "source": [
        ""
      ],
      "execution_count": 0,
      "outputs": []
    }
  ]
}