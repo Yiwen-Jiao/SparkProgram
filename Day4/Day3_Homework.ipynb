{
 "cells": [
  {
   "cell_type": "code",
   "execution_count": 1,
   "metadata": {},
   "outputs": [],
   "source": [
    "import sys\n",
    "sys.path.append('/home/student/ROI/SparkProgram')\n",
    "from initspark import *\n",
    "sc, spark, conf = initspark()"
   ]
  },
  {
   "cell_type": "markdown",
   "metadata": {},
   "source": [
    "## Homework ##\n",
    "\n",
    "** First Challenge **\n",
    "Create a Python function to determine if a number is odd or even and use that to select only the even numbered shippers from the TSV folder of northwind. Note the TSV file does not have headers so you will need to do something to make the DataFrame have a meaningful structure. I would suggest using SparkSql as much as possible to rename and cast the columns which are ShipperID, CompanyName and Phone\n",
    "\n",
    "** Second Challenge **\n",
    "Take the Order_LineItems.json folder, read it into a DataFrame and flatten it and then calculate the average price paid for a product.\n"
   ]
  },
  {
   "cell_type": "code",
   "execution_count": 5,
   "metadata": {},
   "outputs": [
    {
     "name": "stdout",
     "output_type": "stream",
     "text": [
      "DataFrame[_c0: string, _c1: string, _c2: string]\n",
      "DataFrame[ShipperID: int, ShipperName: string, Phone: string]\n",
      "+---------+-----------------+--------------+\n",
      "|ShipperID|      ShipperName|         Phone|\n",
      "+---------+-----------------+--------------+\n",
      "|        2|   United Package|(503) 555-3199|\n",
      "|        4|Alliance Shippers|1-800-222-0451|\n",
      "|        6|              DHL|1-800-225-5345|\n",
      "+---------+-----------------+--------------+\n",
      "\n",
      "+---------+-----------------+--------------+\n",
      "|ShipperID|      ShipperName|         Phone|\n",
      "+---------+-----------------+--------------+\n",
      "|        2|   United Package|(503) 555-3199|\n",
      "|        4|Alliance Shippers|1-800-222-0451|\n",
      "|        6|              DHL|1-800-225-5345|\n",
      "+---------+-----------------+--------------+\n",
      "\n"
     ]
    }
   ],
   "source": [
    "shippers = spark.read.csv('/home/student/ROI/SparkProgram/datasets/northwind/TSV/shippers', header=False, sep = '\\t')\n",
    "#shippers.show()\n",
    "print(shippers)\n",
    "shippers.createOrReplaceTempView('shippers')\n",
    "#print(shippers.collect())\n",
    "shippers = spark.sql('select cast(_c0 as int) as ShipperID, _c1 as ShipperName, _c2 as Phone from shippers')\n",
    "shippers.createOrReplaceTempView('shippers')\n",
    "print(shippers)\n",
    "\n",
    "spark.sql('select * from shippers where ShipperID % 2 = 0').show()\n",
    "\n",
    "def isEven(x):\n",
    "    return x % 2 == 0\n",
    "\n",
    "from pyspark.sql.functions import udf\n",
    "from pyspark.sql.types import BooleanType\n",
    "\n",
    "spark.udf.register('isEven', isEven, BooleanType())\n",
    "\n",
    "spark.sql('select * FROM Shippers WHERE isEven(ShipperID)').show()\n"
   ]
  },
  {
   "cell_type": "code",
   "execution_count": 10,
   "metadata": {},
   "outputs": [
    {
     "name": "stdout",
     "output_type": "stream",
     "text": [
      "+-------+----------+--------------------+---------+---------+--------+--------+\n",
      "|OrderId|CustomerID|           OrderDate|ProductID|UnitPrice|Quantity|Discount|\n",
      "+-------+----------+--------------------+---------+---------+--------+--------+\n",
      "|  11074|     SIMOB|1998-05-06T00:00:...|       16|    17.45|      14|    0.05|\n",
      "|  11075|     RICSU|1998-05-06T00:00:...|       76|     18.0|       2|    0.15|\n",
      "|  11075|     RICSU|1998-05-06T00:00:...|        2|     19.0|      10|    0.15|\n",
      "|  11075|     RICSU|1998-05-06T00:00:...|       46|     12.0|      30|    0.15|\n",
      "|  11076|     BONAP|1998-05-06T00:00:...|       19|      9.2|      10|    0.25|\n",
      "|  11076|     BONAP|1998-05-06T00:00:...|       14|    23.25|      20|    0.25|\n",
      "|  11076|     BONAP|1998-05-06T00:00:...|        6|     25.0|      20|    0.25|\n",
      "|  11077|     RATTC|1998-05-06T00:00:...|       16|    17.45|       2|    0.03|\n",
      "|  11077|     RATTC|1998-05-06T00:00:...|        8|     40.0|       2|     0.1|\n",
      "|  11077|     RATTC|1998-05-06T00:00:...|        2|     19.0|      24|     0.2|\n",
      "|  11077|     RATTC|1998-05-06T00:00:...|       12|     38.0|       2|    0.05|\n",
      "|  11077|     RATTC|1998-05-06T00:00:...|       75|     7.75|       4|     0.0|\n",
      "|  11077|     RATTC|1998-05-06T00:00:...|       32|     32.0|       1|     0.0|\n",
      "|  11077|     RATTC|1998-05-06T00:00:...|       64|    33.25|       2|    0.03|\n",
      "|  11077|     RATTC|1998-05-06T00:00:...|        3|     10.0|       4|     0.0|\n",
      "|  11077|     RATTC|1998-05-06T00:00:...|       10|     31.0|       1|     0.0|\n",
      "|  11077|     RATTC|1998-05-06T00:00:...|       13|      6.0|       4|     0.0|\n",
      "|  11077|     RATTC|1998-05-06T00:00:...|       23|      9.0|       2|     0.0|\n",
      "|  11077|     RATTC|1998-05-06T00:00:...|       41|     9.65|       3|     0.0|\n",
      "|  11077|     RATTC|1998-05-06T00:00:...|       39|     18.0|       2|    0.05|\n",
      "+-------+----------+--------------------+---------+---------+--------+--------+\n",
      "only showing top 20 rows\n",
      "\n",
      "+-----------------+\n",
      "|   avg(UnitPrice)|\n",
      "+-----------------+\n",
      "|26.21851972157771|\n",
      "+-----------------+\n",
      "\n",
      "+-------+----------+--------------------+--------------------+\n",
      "|OrderId|CustomerID|           OrderDate|                   l|\n",
      "+-------+----------+--------------------+--------------------+\n",
      "|  11074|     SIMOB|1998-05-06T00:00:...|[0.05, 16, 14, 17...|\n",
      "|  11075|     RICSU|1998-05-06T00:00:...| [0.15, 76, 2, 18.0]|\n",
      "|  11075|     RICSU|1998-05-06T00:00:...| [0.15, 2, 10, 19.0]|\n",
      "|  11075|     RICSU|1998-05-06T00:00:...|[0.15, 46, 30, 12.0]|\n",
      "|  11076|     BONAP|1998-05-06T00:00:...| [0.25, 19, 10, 9.2]|\n",
      "|  11076|     BONAP|1998-05-06T00:00:...|[0.25, 14, 20, 23...|\n",
      "|  11076|     BONAP|1998-05-06T00:00:...| [0.25, 6, 20, 25.0]|\n",
      "|  11077|     RATTC|1998-05-06T00:00:...|[0.03, 16, 2, 17.45]|\n",
      "|  11077|     RATTC|1998-05-06T00:00:...|   [0.1, 8, 2, 40.0]|\n",
      "|  11077|     RATTC|1998-05-06T00:00:...|  [0.2, 2, 24, 19.0]|\n",
      "|  11077|     RATTC|1998-05-06T00:00:...| [0.05, 12, 2, 38.0]|\n",
      "|  11077|     RATTC|1998-05-06T00:00:...|  [0.0, 75, 4, 7.75]|\n",
      "|  11077|     RATTC|1998-05-06T00:00:...|  [0.0, 32, 1, 32.0]|\n",
      "|  11077|     RATTC|1998-05-06T00:00:...|[0.03, 64, 2, 33.25]|\n",
      "|  11077|     RATTC|1998-05-06T00:00:...|   [0.0, 3, 4, 10.0]|\n",
      "|  11077|     RATTC|1998-05-06T00:00:...|  [0.0, 10, 1, 31.0]|\n",
      "|  11077|     RATTC|1998-05-06T00:00:...|   [0.0, 13, 4, 6.0]|\n",
      "|  11077|     RATTC|1998-05-06T00:00:...|   [0.0, 23, 2, 9.0]|\n",
      "|  11077|     RATTC|1998-05-06T00:00:...|  [0.0, 41, 3, 9.65]|\n",
      "|  11077|     RATTC|1998-05-06T00:00:...| [0.05, 39, 2, 18.0]|\n",
      "+-------+----------+--------------------+--------------------+\n",
      "only showing top 20 rows\n",
      "\n"
     ]
    }
   ],
   "source": [
    "o = spark.read.json('../Day3/Orders_LineItems.json')\n",
    "o.createOrReplaceTempView('Orders')\n",
    "sql = '''select OrderId, CustomerID, OrderDate, l.ProductID, l.UnitPrice, l.Quantity, l.Discount\n",
    "FROM Orders LATERAL VIEW EXPLODE(LineItems) EXPLODED_TABLE AS l\n",
    "'''\n",
    "o2 = spark.sql(sql)\n",
    "o2.show()\n",
    "o2.createOrReplaceTempView('FlatOrders')\n",
    "spark.sql('select avg(UnitPrice) from FlatOrders').show()\n",
    "\n",
    "\n",
    "sql = '''select OrderId, CustomerID, OrderDate, l\n",
    "FROM Orders LATERAL VIEW EXPLODE(LineItems) EXPLODED_TABLE AS l\n",
    "'''\n",
    "o2 = spark.sql(sql)\n",
    "o2.show()"
   ]
  },
  {
   "cell_type": "code",
   "execution_count": null,
   "metadata": {},
   "outputs": [],
   "source": []
  }
 ],
 "metadata": {
  "kernelspec": {
   "display_name": "Python 3",
   "language": "python",
   "name": "python3"
  },
  "language_info": {
   "codemirror_mode": {
    "name": "ipython",
    "version": 3
   },
   "file_extension": ".py",
   "mimetype": "text/x-python",
   "name": "python",
   "nbconvert_exporter": "python",
   "pygments_lexer": "ipython3",
   "version": "3.7.3"
  }
 },
 "nbformat": 4,
 "nbformat_minor": 2
}
